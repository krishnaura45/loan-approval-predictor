{
  "metadata": {
    "kernelspec": {
      "language": "python",
      "display_name": "Python 3",
      "name": "python3"
    },
    "language_info": {
      "name": "python",
      "version": "3.10.14",
      "mimetype": "text/x-python",
      "codemirror_mode": {
        "name": "ipython",
        "version": 3
      },
      "pygments_lexer": "ipython3",
      "nbconvert_exporter": "python",
      "file_extension": ".py"
    },
    "kaggle": {
      "accelerator": "none",
      "dataSources": [
        {
          "sourceId": 84894,
          "databundleVersionId": 9709193,
          "sourceType": "competition"
        },
        {
          "sourceId": 7949759,
          "sourceType": "datasetVersion",
          "datasetId": 4675026
        },
        {
          "sourceId": 9570756,
          "sourceType": "datasetVersion",
          "datasetId": 5828051
        },
        {
          "sourceId": 200055798,
          "sourceType": "kernelVersion"
        }
      ],
      "dockerImageVersionId": 30775,
      "isInternetEnabled": true,
      "language": "python",
      "sourceType": "notebook",
      "isGpuEnabled": false
    },
    "colab": {
      "provenance": [],
      "toc_visible": true
    }
  },
  "nbformat_minor": 0,
  "nbformat": 4,
  "cells": [
    {
      "source": [
        "# IMPORTANT: SOME KAGGLE DATA SOURCES ARE PRIVATE\n",
        "# RUN THIS CELL IN ORDER TO IMPORT YOUR KAGGLE DATA SOURCES.\n",
        "import kagglehub\n",
        "kagglehub.login()\n"
      ],
      "metadata": {
        "id": "Rut-SsigDnny"
      },
      "cell_type": "code",
      "outputs": [],
      "execution_count": null
    },
    {
      "source": [
        "# IMPORTANT: RUN THIS CELL IN ORDER TO IMPORT YOUR KAGGLE DATA SOURCES,\n",
        "# THEN FEEL FREE TO DELETE THIS CELL.\n",
        "# NOTE: THIS NOTEBOOK ENVIRONMENT DIFFERS FROM KAGGLE'S PYTHON\n",
        "# ENVIRONMENT SO THERE MAY BE MISSING LIBRARIES USED BY YOUR\n",
        "# NOTEBOOK.\n",
        "\n",
        "playground_series_s4e10_path = kagglehub.competition_download('playground-series-s4e10')\n",
        "chilledwanker_loan_approval_prediction_path = kagglehub.dataset_download('chilledwanker/loan-approval-prediction')\n",
        "martynovandrey_eda_and_lgb_cat_xgb_path = kagglehub.notebook_output_download('martynovandrey/eda-and-lgb-cat-xgb')\n",
        "\n",
        "print('Data source import complete.')\n"
      ],
      "metadata": {
        "id": "Vr9pXGh4Dnn1"
      },
      "cell_type": "code",
      "outputs": [],
      "execution_count": null
    },
    {
      "cell_type": "markdown",
      "source": [
        "# Import and setup"
      ],
      "metadata": {
        "id": "_g5-LCV6Dnn2"
      }
    },
    {
      "cell_type": "code",
      "source": [
        "import numpy as np\n",
        "import pandas as pd\n",
        "import math\n",
        "import datetime\n",
        "import sys\n",
        "\n",
        "import matplotlib\n",
        "import matplotlib as mpl\n",
        "import matplotlib.cm as cmap\n",
        "import matplotlib.colors as mpl_colors\n",
        "import matplotlib.pyplot as plt\n",
        "import matplotlib.ticker as ticker\n",
        "\n",
        "import seaborn as sns\n",
        "\n",
        "def hex_to_rgb(h):\n",
        "    h = h.lstrip('#')\n",
        "    return tuple(int(h[i:i+2], 16)/255 for i in (0, 2, 4))\n",
        "\n",
        "palette = ['#b4d2b1', '#568f8b', '#1d4a60', '#cd7e59', '#ddb247', '#d15252']\n",
        "palette_rgb = [hex_to_rgb(x) for x in palette]\n",
        "cmap = mpl_colors.ListedColormap(palette_rgb)\n",
        "colors = cmap.colors\n",
        "bg_color= '#fdfcf6'\n",
        "\n",
        "black, red, green, blue = ['#000000', '#ff0000', '#00ff00', '#0000ff']\n",
        "\n",
        "custom_params = {\n",
        "    \"axes.spines.right\": False,\n",
        "    \"axes.spines.top\": False,\n",
        "    'grid.alpha':0.3,\n",
        "    'figure.figsize': (16, 6),\n",
        "    'axes.titlesize': 'Large',\n",
        "    'axes.labelsize': 'Large',\n",
        "    'figure.facecolor': bg_color,\n",
        "    'axes.facecolor': bg_color\n",
        "}\n",
        "\n",
        "sns.set_theme(\n",
        "    style='whitegrid',\n",
        "    palette=sns.color_palette(palette),\n",
        "    rc=custom_params\n",
        ")\n",
        "\n",
        "from plotly.offline import init_notebook_mode, iplot, plot\n",
        "import plotly.express as px\n",
        "import plotly as py\n",
        "init_notebook_mode(connected=True)\n",
        "import plotly.graph_objs as go\n",
        "\n",
        "import scipy.stats as st\n",
        "\n",
        "from warnings import simplefilter\n",
        "simplefilter(\"ignore\")\n",
        "\n",
        "import random\n",
        "import os\n",
        "\n",
        "SEED = 2024\n",
        "def seed_everything(seed=42):\n",
        "    random.seed(seed)\n",
        "    os.environ['PYTHONHASHSEED'] = str(seed)\n",
        "    np.random.seed(seed)\n",
        "seed_everything(SEED)\n",
        "\n",
        "from IPython.display import clear_output\n",
        "from tqdm import tqdm, trange\n",
        "\n",
        "from sklearn.linear_model import *\n",
        "from sklearn.neighbors import KNeighborsRegressor\n",
        "from sklearn.neural_network import MLPRegressor\n",
        "\n",
        "from sklearn.ensemble import AdaBoostRegressor\n",
        "from sklearn.ensemble import BaggingRegressor\n",
        "from sklearn.ensemble import ExtraTreesRegressor\n",
        "from sklearn.ensemble import GradientBoostingRegressor\n",
        "from sklearn.ensemble import HistGradientBoostingRegressor\n",
        "from sklearn.ensemble import RandomForestRegressor\n",
        "\n",
        "from xgboost import XGBRegressor\n",
        "from catboost import CatBoostRegressor, Pool\n",
        "from lightgbm import LGBMRegressor\n",
        "from lightgbm import early_stopping, log_evaluation\n",
        "\n",
        "\n",
        "from lightgbm import LGBMClassifier, LGBMRegressor\n",
        "from lightgbm import early_stopping, log_evaluation\n",
        "from sklearn.linear_model import LogisticRegression\n",
        "import catboost\n",
        "from xgboost import XGBClassifier\n",
        "\n",
        "from sklearn.pipeline import make_pipeline, Pipeline\n",
        "\n",
        "# Encoders\n",
        "from sklearn.preprocessing import *\n",
        "from category_encoders.leave_one_out import LeaveOneOutEncoder\n",
        "from category_encoders import TargetEncoder, WOEEncoder\n",
        "\n",
        "# Scalers\n",
        "from sklearn.preprocessing import StandardScaler, MinMaxScaler, MaxAbsScaler, RobustScaler, Normalizer\n",
        "\n",
        "from sklearn.ensemble import *\n",
        "from sklearn.compose import *\n",
        "\n",
        "from scipy.stats.mstats import gmean, hmean\n",
        "from scipy.stats import mode\n",
        "from numpy import mean, median\n",
        "\n",
        "import re\n",
        "\n",
        "from sklearn.model_selection import *\n",
        "from sklearn.metrics import *\n",
        "from sklearn.base import clone\n",
        "from sklearn.calibration import CalibrationDisplay\n",
        "\n",
        "\n",
        "from sklearn.feature_selection import *\n",
        "import eli5\n",
        "from eli5.sklearn import PermutationImportance\n",
        "import shap\n",
        "\n",
        "from termcolor import colored"
      ],
      "metadata": {
        "_kg_hide-input": true,
        "execution": {
          "iopub.status.busy": "2024-10-09T11:16:05.669644Z",
          "iopub.execute_input": "2024-10-09T11:16:05.670621Z",
          "iopub.status.idle": "2024-10-09T11:16:05.692104Z",
          "shell.execute_reply.started": "2024-10-09T11:16:05.670573Z",
          "shell.execute_reply": "2024-10-09T11:16:05.690842Z"
        },
        "trusted": true,
        "id": "cK4djuckDnn4"
      },
      "execution_count": null,
      "outputs": []
    },
    {
      "cell_type": "markdown",
      "source": [
        "# ENGINE"
      ],
      "metadata": {
        "id": "XYw2ZfLlDnn5"
      }
    },
    {
      "cell_type": "markdown",
      "source": [
        "## ⚖ Averager\n",
        "We will use it to average different prediction in fold with weights optimized"
      ],
      "metadata": {
        "id": "aCcvSdc6Dnn6"
      }
    },
    {
      "cell_type": "code",
      "source": [
        "from functools import partial\n",
        "import scipy as sp\n",
        "\n",
        "class Averager(object):\n",
        "\n",
        "    def __init__(self, method='nelder-mead', round_avg=False, options={}):\n",
        "        self.weights_ = []\n",
        "        self.opt_ = ''\n",
        "        self.method_ = method\n",
        "        self.round_avg_ = round_avg\n",
        "        self.options_ = options\n",
        "\n",
        "    def _weighted_average(self, weights, values):\n",
        "        qty = len(values)\n",
        "        sum_values = values[0] * weights[0]\n",
        "        sum_weights = weights[0]\n",
        "        for i in range(1, qty):\n",
        "            sum_values += values[i] * weights[i]\n",
        "            sum_weights += weights[i]\n",
        "        if self.round_avg_:\n",
        "            return int(np.round(sum_values / sum_weights, 0))\n",
        "        return sum_values / sum_weights\n",
        "\n",
        "    def _score(self, weights, values, true_labels):\n",
        "        preds = self._weighted_average(weights, values)\n",
        "        return LOSS(true_labels, preds)\n",
        "\n",
        "    def fit(self, values, true_labels):\n",
        "        qty = len(values)\n",
        "        initial_weights = [1 for _ in range(qty)]\n",
        "        score_partial = partial(self._score, values=values, true_labels=true_labels)\n",
        "        self.opt_ = sp.optimize.minimize(score_partial, initial_weights, method=self.method_, options=self.options_)\n",
        "        self.weights_ = self.opt_['x']\n",
        "\n",
        "    def predict(self, values):\n",
        "        assert len(self.weights_) == len(values), 'Averager error, must be fitted before predict'\n",
        "        return self._weighted_average(self.weights_, values)\n",
        "\n",
        "    def fit_predict(self, values, true_labels):\n",
        "        self.fit(values, true_labels)\n",
        "        return self.predict(values)\n",
        "\n",
        "    def weights(self):\n",
        "        return self.weights_\n",
        "\n",
        "    def optimization(self):\n",
        "        return self.opt_\n",
        "\n"
      ],
      "metadata": {
        "_kg_hide-input": false,
        "execution": {
          "iopub.status.busy": "2024-10-09T11:16:05.694446Z",
          "iopub.execute_input": "2024-10-09T11:16:05.694828Z",
          "iopub.status.idle": "2024-10-09T11:16:05.708141Z",
          "shell.execute_reply.started": "2024-10-09T11:16:05.694791Z",
          "shell.execute_reply": "2024-10-09T11:16:05.706965Z"
        },
        "trusted": true,
        "id": "ldk0Ib_EDnn6"
      },
      "execution_count": null,
      "outputs": []
    },
    {
      "cell_type": "markdown",
      "source": [
        "## &#128188; Classes"
      ],
      "metadata": {
        "id": "WK6osXogDnn7"
      }
    },
    {
      "cell_type": "code",
      "source": [
        "class ModelFather():\n",
        "\n",
        "    def __init__(self, name='model', params={}, verbose=1, options={}):\n",
        "        self.name = name\n",
        "        self.models_ = []\n",
        "        self.model_ = None\n",
        "        self.params_ = params\n",
        "        self.verbose_ = verbose\n",
        "        self.options_ = options\n",
        "\n",
        "    def fit(X, y, X_val, y_val):\n",
        "        pass\n",
        "\n",
        "class Regressor(ModelFather):\n",
        "\n",
        "    def fit_predict(self, X, y, X_val, y_val):\n",
        "        self.fit(X, y, X_val, y_val)\n",
        "        return self.predict(X_val)\n",
        "\n",
        "    def fit_predict_proba(self, X, y, X_val, y_val):\n",
        "        self.fit(X, y, X_val, y_val)\n",
        "        return self.predict(X_val)\n",
        "\n",
        "    def predict_proba(self, X):\n",
        "        return self.predict(X)\n",
        "\n",
        "    def predict(self, X):\n",
        "        assert self.model_ is not None, 'Model error, must be fitted before predict'\n",
        "        return self.model_.predict(X)\n",
        "\n",
        "#         assert len(self.models_) > 0, 'Model error, must be fitted before predict'\n",
        "#         if len(self.models_) == 1:\n",
        "#             return self.models_[0].predict(X)\n",
        "#         return self.averager_.predict([m.predict(X) for m in self.models_])\n",
        "\n",
        "\n",
        "class Classifier(ModelFather):\n",
        "\n",
        "    def fit_predict_proba(self, X, y, X_val, y_val):\n",
        "        self.fit(X, y, X_val, y_val)\n",
        "        return self.predict_proba(X_val)\n",
        "\n",
        "    def predict(self, X):\n",
        "        return np.rint(self.predict_proba(X)).astype(int)\n",
        "\n",
        "    def predict_proba(self, X):\n",
        "        assert self.model_ is not None, 'Model error, must be fitted before predict'\n",
        "        return self.model_.predict_proba(X)[:, -1]\n",
        "\n",
        "#         assert len(self.models_) > 0, 'Model error, must be fitted before predict'\n",
        "#         if len(self.models_) == 1:\n",
        "#             return self.models_[0].predict_proba(X)[:, -1]\n",
        "#         return self.averager_.predict([m.predict_proba(X)[:, -1] for m in self.models_])\n",
        "\n",
        "\n",
        "class RegressorWrapper(Regressor):\n",
        "\n",
        "    def __init__(self, model, name='model', params={}, verbose=1, options={}):\n",
        "        super().__init__(name=name, params=params, verbose=verbose, options=options)\n",
        "        self.model_ = model\n",
        "\n",
        "    def fit(self, X, y, X_val, y_val):\n",
        "        self.model_.fit(X, y)\n",
        "\n",
        "class ClassifierWrapper(Classifier):\n",
        "\n",
        "    def __init__(self, model, name='model', params={}, verbose=1, options={}):\n",
        "        super().__init__(name=name, params=params, verbose=verbose, options=options)\n",
        "        self.model_ = model\n",
        "\n",
        "    def fit(self, X, y, X_val, y_val):\n",
        "        self.model_.fit(X, y)"
      ],
      "metadata": {
        "_kg_hide-input": false,
        "execution": {
          "iopub.status.busy": "2024-10-09T11:16:05.709546Z",
          "iopub.execute_input": "2024-10-09T11:16:05.710002Z",
          "iopub.status.idle": "2024-10-09T11:16:05.727591Z",
          "shell.execute_reply.started": "2024-10-09T11:16:05.709951Z",
          "shell.execute_reply": "2024-10-09T11:16:05.726313Z"
        },
        "trusted": true,
        "id": "UtU7IWzuDnn8"
      },
      "execution_count": null,
      "outputs": []
    },
    {
      "cell_type": "code",
      "source": [
        "class EnsembleClassifier(Classifier):\n",
        "\n",
        "    def __init__(self, classifiers, name='model', params={}, verbose=1, options={}):\n",
        "        super().__init__(name=name, params=params, verbose=verbose, options=options)\n",
        "\n",
        "        self.classifiers_ = classifiers\n",
        "\n",
        "    def fit_predict_proba(self, X, y, X_val, y_val):\n",
        "\n",
        "        print('\\n')\n",
        "\n",
        "        self.models_ = []\n",
        "\n",
        "        val_probas = []\n",
        "\n",
        "        for classifier in self.classifiers_:\n",
        "            try:\n",
        "                m = clone(classifier)\n",
        "            except:\n",
        "                m = classifier\n",
        "            val_p = m.fit_predict_proba(X, y, X_val, y_val)\n",
        "            if self.verbose_ > 0:\n",
        "                print(colored(f'\\n{m.__class__.__name__}: {SCORE(y_val, val_p)}', 'blue'))\n",
        "            self.models_.append(m)\n",
        "            val_probas.append(val_p)\n",
        "\n",
        "        if self.verbose_ > 0:\n",
        "            print('\\nPROBAS:')\n",
        "            for proba in val_probas:\n",
        "                print(proba)\n",
        "\n",
        "            probas_mean = np.mean(val_probas, axis=0)\n",
        "            print('MEAN:\\n', probas_mean)\n",
        "\n",
        "            print(colored(f'{SCORE_NAME} OF MEAN: {SCORE(y_val, probas_mean)}', 'red'))\n",
        "\n",
        "        self.averager_ = Averager()\n",
        "        VAL_PROBAS = self.averager_.fit_predict(val_probas, y_val)\n",
        "        if self.verbose_ > 0:\n",
        "            print('\\nWEIGHTS:\\n', self.averager_.weights())\n",
        "            print('AVGW (weighted average):\\n', VAL_PROBAS)\n",
        "\n",
        "            print(colored(f'{SCORE_NAME} OF AVGW: {SCORE(y_val, VAL_PROBAS)}\\n\\n', 'red'))\n",
        "\n",
        "        if 'optimize' in self.options_:\n",
        "            if not self.options_['optimize']:\n",
        "                return probas_mean\n",
        "        return VAL_PROBAS\n",
        "\n",
        "\n",
        "    def predict_proba(self, X):\n",
        "        assert len(self.models_) > 0, 'Model error, must be fitted before predict'\n",
        "        if len(self.models_) == 1:\n",
        "            return self.models_[0].predict_proba(X)\n",
        "\n",
        "        probas = [model.predict_proba(X) for model in self.models_]\n",
        "\n",
        "        if 'optimize' in self.options_:\n",
        "            if not self.options_['optimize']:\n",
        "                return np.mean(probas, axis=0)\n",
        "        return self.averager_.predict(probas)"
      ],
      "metadata": {
        "_kg_hide-input": false,
        "execution": {
          "iopub.status.busy": "2024-10-09T11:16:05.916588Z",
          "iopub.execute_input": "2024-10-09T11:16:05.917007Z",
          "iopub.status.idle": "2024-10-09T11:16:05.931453Z",
          "shell.execute_reply.started": "2024-10-09T11:16:05.916965Z",
          "shell.execute_reply": "2024-10-09T11:16:05.929967Z"
        },
        "trusted": true,
        "id": "-uKl7QJGDnn9"
      },
      "execution_count": null,
      "outputs": []
    },
    {
      "cell_type": "markdown",
      "source": [
        "## &#128295; Setttings"
      ],
      "metadata": {
        "id": "eUZ5-ETKDnn-"
      }
    },
    {
      "cell_type": "code",
      "source": [
        "EVALUATE_DATASETS = True\n",
        "EVALUATE_MODELS   = True\n",
        "EDA               = True\n",
        "SUBMIT            = True\n",
        "OPTUNA            = False\n",
        "DEBUG             = False\n",
        "LOAD_SAVED        = True"
      ],
      "metadata": {
        "execution": {
          "iopub.status.busy": "2024-10-09T11:16:05.933612Z",
          "iopub.execute_input": "2024-10-09T11:16:05.934001Z",
          "iopub.status.idle": "2024-10-09T11:16:05.947793Z",
          "shell.execute_reply.started": "2024-10-09T11:16:05.933963Z",
          "shell.execute_reply": "2024-10-09T11:16:05.946467Z"
        },
        "trusted": true,
        "id": "Fc4nQ2goDnn-"
      },
      "execution_count": null,
      "outputs": []
    },
    {
      "cell_type": "code",
      "source": [
        "# CLASSIFICATION\n",
        "\n",
        "def load_datasets():\n",
        "    train = pd.read_csv('/kaggle/input/playground-series-s4e10/train.csv')\n",
        "    test = pd.read_csv('/kaggle/input/playground-series-s4e10/test.csv')\n",
        "    sample_sub = pd.read_csv('/kaggle/input/playground-series-s4e10/sample_submission.csv')\n",
        "    original = pd.read_csv('/kaggle/input/loan-approval-prediction/credit_risk_dataset.csv')\n",
        "\n",
        "    train = train.drop(['id'], axis=1)\n",
        "    test = test.drop(['id'], axis=1)\n",
        "    return train, test, original, sample_sub\n",
        "\n",
        "PROBLEM = 'classification'\n",
        "\n",
        "TARGET = 'loan_status'\n",
        "\n",
        "def SCORE(labels, proba):\n",
        "    return roc_auc_score(labels, proba)\n",
        "\n",
        "def LOSS(labels, proba):\n",
        "    return -roc_auc_score(labels, proba)\n",
        "\n",
        "SCORE_NAME = 'ROC_AUC'\n",
        "\n",
        "def CV(model, train_df, test_df,\n",
        "    repeats=1, folds=5, seed=42, dataset='base', submission=False, use_tqdm=True, log=True, clear=True,\n",
        "    param=None, verbose=1):\n",
        "\n",
        "    name = model.name\n",
        "\n",
        "    train, test = train_df.copy(), test_df.copy()\n",
        "\n",
        "    features = test.columns.to_list()\n",
        "    test_features = np.array(test[features])\n",
        "\n",
        "    cv = RepeatedStratifiedKFold(n_splits=folds, n_repeats=repeats, random_state=seed) #shuffle=True,\n",
        "\n",
        "    test_proba_mean = np.zeros(len(test))\n",
        "    oof_train_proba = np.zeros(len(train))\n",
        "    oof_true = np.zeros(len(train))\n",
        "\n",
        "    oof_scores = []\n",
        "\n",
        "    if use_tqdm and verbose > 0:\n",
        "        data = tqdm(enumerate(cv.split(train[features], train[TARGET])), desc='Fold', total=folds*repeats, file=sys.stdout, colour='GREEN')\n",
        "    else:\n",
        "        data = enumerate(cv.split(train[features], train[TARGET]))\n",
        "\n",
        "    start = datetime.datetime.now()\n",
        "\n",
        "    for i, (train_idx,val_idx) in data:\n",
        "\n",
        "        train_labels =  train.loc[train_idx, TARGET]\n",
        "        val_labels =  train.loc[val_idx, TARGET]\n",
        "        train_features = train.loc[train_idx, features]\n",
        "        val_features = train.loc[val_idx, features]\n",
        "        print('\\n')\n",
        "        val_proba =  model.fit_predict_proba(train_features, train_labels, val_features, val_labels)\n",
        "        test_proba = model.predict_proba(test) #_features\n",
        "\n",
        "        test_proba_mean += test_proba\n",
        "\n",
        "        val_prediction = np.rint(val_proba).astype(int)\n",
        "        score = SCORE(val_labels, val_proba)\n",
        "        oof_scores.append(score)\n",
        "        if log and verbose > 0:\n",
        "            print(score)\n",
        "\n",
        "        oof_train_proba[val_idx] = val_proba\n",
        "        oof_true[val_idx] = val_labels\n",
        "\n",
        "        if clear:\n",
        "            clear_output(wait=True)\n",
        "\n",
        "    execution_time = (datetime.datetime.now() - start).total_seconds() / folds*repeats\n",
        "\n",
        "    mean_oof_score = np.mean(oof_scores)\n",
        "\n",
        "    prediction = np.rint(oof_train_proba).astype(int)\n",
        "    score = SCORE(oof_true, oof_train_proba)\n",
        "    confusion = confusion_matrix(oof_true, prediction)\n",
        "\n",
        "    test_proba_mean /= folds*repeats\n",
        "\n",
        "    if verbose > 0:\n",
        "        print(colored(f'\\n{name} on {dataset} dataset performance:\\n', 'red'))\n",
        "\n",
        "        fig, axs = plt.subplots(1, 4, figsize=(36, 5))\n",
        "        sns.boxplot(oof_scores, ax=axs[0])\n",
        "        axs[0].set_title(f'OOF {SCORE_NAME}, mean {mean_oof_score}')\n",
        "\n",
        "        labels = ['class 0', 'Class 1']\n",
        "        sns.heatmap(confusion, annot=True, annot_kws={\"fontsize\":24}, fmt=\",d\", xticklabels=labels, yticklabels=labels, cmap='plasma', cbar=False, ax=axs[1])\n",
        "        axs[1].set_title(f'Prediction, {SCORE_NAME} {score}')\n",
        "        axs[1].set_ylabel(\"Actual Class\")\n",
        "        axs[1].set_xlabel(\"Predicted Class\")\n",
        "\n",
        "        RocCurveDisplay.from_predictions(oof_true, oof_train_proba, ax=axs[2])\n",
        "        axs[2].set_title('ROC')\n",
        "\n",
        "        CalibrationDisplay.from_predictions(oof_true, np.array(oof_train_proba).clip(0, 1), n_bins=30, strategy='quantile', ax=axs[3])\n",
        "        axs[3].set_title('Calibration')\n",
        "\n",
        "        plt.tight_layout()\n",
        "        plt.show()\n",
        "\n",
        "        scorer = round(score, 4)\n",
        "        print(colored(f'\\n---------- {SCORE_NAME}: {scorer} ----------:\\n', 'red'))\n",
        "\n",
        "        print('\\n---------- Classification Report ----------\\n')\n",
        "        print(classification_report(oof_true, prediction))\n",
        "\n",
        "    model_accuracy = round(accuracy_score(oof_true, prediction), 4)\n",
        "    model_precision, model_recall, model_f1, _ = precision_recall_fscore_support(oof_true, prediction,\n",
        "                                                                                 average=\"weighted\")\n",
        "    model_precision, model_recall, model_f1 = round(model_precision, 4), round(model_recall, 4), round(model_f1, 4)\n",
        "    model_matthews_corrcoef = round(matthews_corrcoef(oof_true, prediction), 4)\n",
        "\n",
        "    performance_scores = {\n",
        "        'Model': name,\n",
        "        'Dataset': dataset,\n",
        "        f'Mean OOF {SCORE_NAME}': round(mean_oof_score, 4),\n",
        "        f'{SCORE_NAME}': scorer,\n",
        "        'Accuracy Score': model_accuracy,\n",
        "        'Precision Score': model_precision,\n",
        "        'Recall Score': model_recall,\n",
        "        'f1 Score': model_f1,\n",
        "        'Matthews Corr Coef': model_matthews_corrcoef,\n",
        "        'time': execution_time,\n",
        "    }\n",
        "\n",
        "    if verbose > 0:\n",
        "        display(pd.DataFrame([performance_scores]).set_index('Model'))\n",
        "\n",
        "    if submission:\n",
        "        sub = sample_sub.copy()\n",
        "        sub[TARGET] = test_proba_mean\n",
        "        sub.to_csv(f\"{name}_{dataset}_{score:.4f}_{model_f1:.4f}.csv\", index=False)\n",
        "\n",
        "        display(sub.head(3))\n",
        "\n",
        "    return performance_scores, oof_train_proba, test_proba_mean"
      ],
      "metadata": {
        "_kg_hide-input": true,
        "scrolled": true,
        "execution": {
          "iopub.status.busy": "2024-10-09T11:16:05.949802Z",
          "iopub.execute_input": "2024-10-09T11:16:05.95028Z",
          "iopub.status.idle": "2024-10-09T11:16:05.977235Z",
          "shell.execute_reply.started": "2024-10-09T11:16:05.950169Z",
          "shell.execute_reply": "2024-10-09T11:16:05.976119Z"
        },
        "trusted": true,
        "id": "HxQVXUSRDnn-"
      },
      "execution_count": null,
      "outputs": []
    },
    {
      "cell_type": "code",
      "source": [
        "BASE_MODEL = EnsembleClassifier(\n",
        "    [\n",
        "        ClassifierWrapper(LGBMClassifier(n_estimators=100, random_state=42, verbose=-1, objective='binary', metric='auc')) ,\n",
        "        ClassifierWrapper(XGBClassifier(n_estimators=100, random_state=42, enable_categorical=True, objective='binary:logistic')) ,\n",
        "    ],\n",
        "    name='BASE',\n",
        ")"
      ],
      "metadata": {
        "_kg_hide-input": true,
        "execution": {
          "iopub.status.busy": "2024-10-09T11:16:05.978653Z",
          "iopub.execute_input": "2024-10-09T11:16:05.979047Z",
          "iopub.status.idle": "2024-10-09T11:16:05.994761Z",
          "shell.execute_reply.started": "2024-10-09T11:16:05.979007Z",
          "shell.execute_reply": "2024-10-09T11:16:05.993661Z"
        },
        "trusted": true,
        "id": "2JNYakplDnn_"
      },
      "execution_count": null,
      "outputs": []
    },
    {
      "cell_type": "markdown",
      "source": [
        "## &#128200; Performance Evaluation metrics and plots\n",
        "\n",
        "> - [Confusion matrix](https://scikit-learn.org/stable/modules/model_evaluation.html#confusion-matrix)\n",
        "> - [Receiver operating characteristic (ROC)](https://scikit-learn.org/stable/modules/model_evaluation.html#roc-metrics)\n",
        "> - [Calibration Curve](https://scikit-learn.org/stable/modules/calibration.html#calibration)\n",
        "> - [Classification Report](https://scikit-learn.org/stable/modules/generated/sklearn.metrics.classification_report.html#sklearn.metrics.classification_report)\n",
        "> - [Accuracy Score](https://scikit-learn.org/stable/modules/generated/sklearn.metrics.accuracy_score.html#sklearn.metrics.accuracy_score)\n",
        "> - [Precision](https://scikit-learn.org/stable/modules/generated/sklearn.metrics.precision_score.html#sklearn.metrics.precision_score)\n",
        "> - [Recall](https://scikit-learn.org/stable/modules/generated/sklearn.metrics.recall_score.html#sklearn.metrics.recall_score)\n",
        "> - [F1-score](https://scikit-learn.org/stable/modules/generated/sklearn.metrics.f1_score.html#sklearn.metrics.f1_score)\n",
        "> - [Matthews Correlation Coefficient](https://scikit-learn.org/stable/modules/generated/sklearn.metrics.matthews_corrcoef.html)\n"
      ],
      "metadata": {
        "id": "kYmhJ08_Dnn_"
      }
    },
    {
      "cell_type": "code",
      "source": [
        "def evaluate_dataset(train_df, test_df, name='', clear=True, submisssion=True):\n",
        "    if EVALUATE_DATASETS:\n",
        "        train, test = train_df.copy(), test_df.copy()\n",
        "\n",
        "        object_columns = test.select_dtypes(include=['object']).columns.to_list()\n",
        "        for df in [train, test]:\n",
        "            df[object_columns] = df[object_columns].astype('category')\n",
        "\n",
        "        score, _, _ = CV(BASE_MODEL, train, test, dataset=name, clear=clear)\n",
        "        datasets_scores[f'{name} dataset'] = score\n",
        "\n",
        "def display_scores(scores, x='Model'):\n",
        "    print('\\nCOMPARE:')\n",
        "    df = pd.DataFrame([v for k, v in scores.items()])\n",
        "    display(df.style.background_gradient(subset=df.columns.to_list().remove('Dataset'), cmap='Greens'))\n",
        "    mn, mx = df[SCORE_NAME].min(), df[SCORE_NAME].max()\n",
        "    fig, ax = plt.subplots(1, 1, figsize=(15, 5))\n",
        "    sns.barplot(df, x=x, y=SCORE_NAME, ax=ax)\n",
        "    ax.set(ylim=(mn*0.999, mx*1.001))\n",
        "    ax.bar_label(ax.containers[0])\n",
        "    plt.tight_layout()\n",
        "    plt.show()\n",
        "\n",
        "def fcn(df):\n",
        "    return df.columns.tolist(), df.select_dtypes(include=['object', 'category']).columns.tolist(), df.select_dtypes(exclude=['object', 'category']).columns.tolist()\n",
        "\n",
        "def df_info(df, name='', tab=True, plots=False, info=True, nrows=3):\n",
        "    print(colored(f'\\n---------- {name} ----------:\\n', 'red'))\n",
        "\n",
        "    if tab:\n",
        "        display(df.head(nrows))\n",
        "        display(df.tail(nrows))\n",
        "        print(colored(f'{name} has {df.shape[0]} rows, {df.shape[1]} columns\\n', 'blue'))\n",
        "\n",
        "    inf = pd.DataFrame(df.dtypes).reset_index().rename(columns={'index':'column', 0:'type'})\n",
        "    df_missed = pd.DataFrame(df.isnull().sum()).reset_index().rename(columns={'index':'column', 0:'missed'})\n",
        "    df_unique = pd.DataFrame(df.nunique()).reset_index().rename(columns={'index':'column', 0:'unique'})\n",
        "    inf['missed'] = df_missed['missed']\n",
        "    inf['unique'] = df_unique['unique']\n",
        "    inf['duplicate'] = df.duplicated().sum()\n",
        "\n",
        "    desc = pd.DataFrame(df.describe(include='all').transpose())\n",
        "    if 'min' in desc.columns.tolist():\n",
        "        inf['min'] = desc['min'].values\n",
        "        inf['max'] = desc['max'].values\n",
        "        inf['avg'] = desc['mean'].values\n",
        "        inf['std dev'] = desc['std'].values\n",
        "    if 'top' in desc.columns.tolist():\n",
        "        inf['top value'] = desc['top'].values\n",
        "        inf['Freq'] = desc['freq'].values\n",
        "\n",
        "    if info:\n",
        "        display(inf.style.background_gradient(subset='missed', cmap='Reds').background_gradient(subset='unique', cmap='Greens'))\n",
        "\n",
        "    if plots:\n",
        "        print()\n",
        "        if df_missed['missed'].sum() > 0:\n",
        "            fig, ax = plt.subplots(1, 1, figsize=(24, 5))\n",
        "            sns.barplot(df_missed[df_missed['missed'] > 0], x='column', y='missed', ax=ax)\n",
        "            ax.set_title(f'{name} missed values')\n",
        "            ax.bar_label(ax.containers[0])\n",
        "            plt.tight_layout()\n",
        "            plt.show()\n",
        "\n",
        "        fig, ax = plt.subplots(1, 1, figsize=(24, 5))\n",
        "        sns.barplot(df_unique[df_unique['unique'] > 0], x='column', y='unique', ax=ax)\n",
        "        ax.set_title(f'{name} unique values')\n",
        "        ax.bar_label(ax.containers[0])\n",
        "        plt.tight_layout()\n",
        "        plt.show()\n",
        "\n",
        "!pip install dython\n",
        "from dython.nominal import associations\n",
        "clear_output()\n",
        "\n",
        "def df_corr(df, name=''):\n",
        "    associations_df = associations(df, nominal_columns='all', plot=False)\n",
        "    corr_matrix = associations_df['corr']\n",
        "    plt.figure(figsize=(20, 8))\n",
        "    plt.gcf().set_facecolor('#FFFDD0')\n",
        "    sns.heatmap(corr_matrix, annot=True, fmt='.2f', cmap='coolwarm', linewidths=0.5)\n",
        "    plt.title(f'{name} Correlation Matrix including Categorical Features')\n",
        "    plt.show()\n",
        "\n",
        "from sklearn.decomposition import PCA\n",
        "\n",
        "def plot_variance(pca, width=10, height=4, dpi=100):\n",
        "    # Create figure\n",
        "    fig, axs = plt.subplots(1, 2)\n",
        "    n = pca.n_components_\n",
        "    grid = np.arange(1, n + 1)\n",
        "    # Explained variance\n",
        "    evr = pca.explained_variance_ratio_\n",
        "    axs[0].bar(grid, evr)\n",
        "    axs[0].set(\n",
        "        xlabel=\"Component\", title=\"% Explained Variance\", ylim=(0.0, 0.2)\n",
        "    )\n",
        "\n",
        "    # Cumulative Variance\n",
        "    cv = np.cumsum(evr)\n",
        "    axs[1].plot(np.r_[0, grid], np.r_[0, cv], \"o-\")\n",
        "    axs[1].set(\n",
        "        xlabel=\"Component\", title=\"\", ylim=(0.0, 1.0)\n",
        "    )\n",
        "\n",
        "    # Set up figure\n",
        "    fig.set(figwidth=width, figheight=height,  dpi=100)\n",
        "    return axs\n",
        "\n",
        "def make_pca(train, test, display_loadings=True, plots=True):\n",
        "    features = test.columns.tolist()\n",
        "    pca = PCA()\n",
        "    X_pca = pca.fit_transform(train.copy()[features])\n",
        "    X_test_pca = pca.transform(test.copy()[features])\n",
        "    component_names = [f\"PC{i+1}\" for i in range(X_pca.shape[1])]\n",
        "    X_pca = pd.DataFrame(X_pca, columns=component_names)\n",
        "    X_test_pca = pd.DataFrame(X_test_pca, columns=component_names)\n",
        "\n",
        "    if display_loadings:\n",
        "        loadings = pd.DataFrame(\n",
        "            pca.components_.T,  # transpose the matrix of loadings\n",
        "            columns=component_names,  # so the columns are the principal components\n",
        "            index=features,  # and the rows are the original features\n",
        "        )\n",
        "        print('\\nLoadings:')\n",
        "        display(loadings.head(20).style.background_gradient(subset=loadings.columns.to_list(), cmap='Greens'))\n",
        "\n",
        "    if plots:\n",
        "        plot_variance(pca)\n",
        "    return X_pca, X_test_pca"
      ],
      "metadata": {
        "_kg_hide-input": true,
        "execution": {
          "iopub.status.busy": "2024-10-09T11:16:05.997879Z",
          "iopub.execute_input": "2024-10-09T11:16:05.998291Z",
          "iopub.status.idle": "2024-10-09T11:16:19.789066Z",
          "shell.execute_reply.started": "2024-10-09T11:16:05.998229Z",
          "shell.execute_reply": "2024-10-09T11:16:19.787326Z"
        },
        "trusted": true,
        "id": "EEX8J13BDnn_"
      },
      "execution_count": null,
      "outputs": []
    },
    {
      "cell_type": "markdown",
      "source": [
        "# &#127916; Load Datasets"
      ],
      "metadata": {
        "id": "whbpb0fGDnoA"
      }
    },
    {
      "cell_type": "code",
      "source": [
        "train, test, original, sample_sub = load_datasets()"
      ],
      "metadata": {
        "_kg_hide-input": false,
        "execution": {
          "iopub.status.busy": "2024-10-09T11:16:19.790879Z",
          "iopub.execute_input": "2024-10-09T11:16:19.791341Z",
          "iopub.status.idle": "2024-10-09T11:16:20.117927Z",
          "shell.execute_reply.started": "2024-10-09T11:16:19.791298Z",
          "shell.execute_reply": "2024-10-09T11:16:20.116709Z"
        },
        "trusted": true,
        "id": "u9YOBs4QDnoA"
      },
      "execution_count": null,
      "outputs": []
    },
    {
      "cell_type": "code",
      "source": [
        "cols, _, _  = fcn(test)\n",
        "for df in [train, test, original]:\n",
        "    for c in cols:\n",
        "        for prfx in ['cb_', 'person_', 'loan_']:\n",
        "            if c.startswith(prfx):\n",
        "                df.rename(columns={c:c[len(prfx):]}, inplace=True)\n",
        "cols, _, _  = fcn(test)\n",
        "for df in [train, test, original]:\n",
        "    for c in cols:\n",
        "        for prfx in ['cb_', 'person_', 'loan_']:\n",
        "            if c.startswith(prfx):\n",
        "                df.rename(columns={c:c[len(prfx):]}, inplace=True)\n",
        "\n",
        "if original is not None:\n",
        "    train['original'] = False\n",
        "    test['original'] = False\n",
        "    original['original'] = True\n"
      ],
      "metadata": {
        "execution": {
          "iopub.status.busy": "2024-10-09T11:16:20.11959Z",
          "iopub.execute_input": "2024-10-09T11:16:20.120072Z",
          "iopub.status.idle": "2024-10-09T11:16:20.14636Z",
          "shell.execute_reply.started": "2024-10-09T11:16:20.120018Z",
          "shell.execute_reply": "2024-10-09T11:16:20.144479Z"
        },
        "trusted": true,
        "id": "tEjXIxDwDnoA"
      },
      "execution_count": null,
      "outputs": []
    },
    {
      "cell_type": "code",
      "source": [
        "df_info(train, 'TRAIN', plots=True)\n",
        "df_info(test, 'TEST', plots=True)\n",
        "if original is not None:\n",
        "    df_info(original, 'ORIGINAL', plots=True)"
      ],
      "metadata": {
        "execution": {
          "iopub.status.busy": "2024-10-09T11:16:20.148239Z",
          "iopub.execute_input": "2024-10-09T11:16:20.148719Z",
          "iopub.status.idle": "2024-10-09T11:16:22.757317Z",
          "shell.execute_reply.started": "2024-10-09T11:16:20.148649Z",
          "shell.execute_reply": "2024-10-09T11:16:22.756168Z"
        },
        "trusted": true,
        "id": "F-u-Vn4zDnoA"
      },
      "execution_count": null,
      "outputs": []
    },
    {
      "cell_type": "markdown",
      "source": [
        "# &#128202; EDA"
      ],
      "metadata": {
        "id": "88gWmBkoDnoA"
      }
    },
    {
      "cell_type": "markdown",
      "source": [
        "<div style=\"display: block; padding: 3px 0; background-color: #ccffcc; color: black; font-size: 12px; font-weight: bold; border-radius: 12px; text-align: center; width: 100%; box-shadow: inset 4px 4px 8px rgba(255, 255, 255, 0.5), inset -4px -4px 8px rgba(0, 0, 0, 0.3); width:40%; margin:auto\">\n",
        "    The target\n",
        "</div>"
      ],
      "metadata": {
        "id": "0JS60616DnoA"
      }
    },
    {
      "cell_type": "code",
      "source": [
        "if EDA:\n",
        "    df, hue  = train, None\n",
        "    if original is not None:\n",
        "        t, o = train.copy(), original.copy()\n",
        "        t['df'] = 'train'\n",
        "        o['df'] = 'original'\n",
        "        df, hue = pd.concat([t, o], axis=0), 'df'\n",
        "    if PROBLEM == 'regression':\n",
        "        f = TARGET\n",
        "        fig, axs = plt.subplots(2, 2, figsize=(24, 10))\n",
        "\n",
        "        ax = axs[0,0]\n",
        "        sns.kdeplot(train, x=f, label='train', ax=ax, color=red)\n",
        "        if original is not None:\n",
        "            sns.kdeplot(original[f], label='original', ax=ax, color=blue)\n",
        "        ax.set_title(f'{f} distribution')\n",
        "        ax.legend()\n",
        "\n",
        "        ax = axs[0,1]\n",
        "        sns.boxplot(df, y=f, x=hue, ax=ax)\n",
        "        ax.set_title(f'{f} boxplot')\n",
        "\n",
        "        ax = axs[1,0]\n",
        "        sns.kdeplot(np.log(train[f]), label='train', ax=ax, color=red)\n",
        "        if original is not None:\n",
        "            sns.kdeplot(np.log(original[f]), label='original', ax=ax, color=blue)\n",
        "        ax.set_title(f'log({f}) distribution')\n",
        "        ax.legend()\n",
        "\n",
        "        ax = axs[1,1]\n",
        "        sns.boxplot(y=np.log(df[f]), x=df['df'], ax=ax)\n",
        "        ax.set_title(f'log({f}) boxplot')\n",
        "\n",
        "        plt.tight_layout()\n",
        "        plt.show()\n",
        "    else:\n",
        "        fig, ax = plt.subplots(1, 1, figsize=(24, 5))\n",
        "        sns.countplot(train, x=TARGET)\n",
        "        ax.bar_label(ax.containers[0])\n",
        "        plt.tight_layout()\n",
        "        plt.show()\n"
      ],
      "metadata": {
        "_kg_hide-input": true,
        "execution": {
          "iopub.status.busy": "2024-10-09T11:16:22.758894Z",
          "iopub.execute_input": "2024-10-09T11:16:22.759392Z",
          "iopub.status.idle": "2024-10-09T11:16:23.108908Z",
          "shell.execute_reply.started": "2024-10-09T11:16:22.75934Z",
          "shell.execute_reply": "2024-10-09T11:16:23.107748Z"
        },
        "trusted": true,
        "id": "S4j6DlelDnoB"
      },
      "execution_count": null,
      "outputs": []
    },
    {
      "cell_type": "markdown",
      "source": [
        "The target is not balanced"
      ],
      "metadata": {
        "id": "ltuyNLWHDnoB"
      }
    },
    {
      "cell_type": "markdown",
      "source": [
        "<div style=\"display: block; padding: 3px 0; background-color: #ccffcc; color: black; font-size: 12px; font-weight: bold; border-radius: 12px; text-align: center; width: 100%; box-shadow: inset 4px 4px 8px rgba(255, 255, 255, 0.5), inset -4px -4px 8px rgba(0, 0, 0, 0.3); width:40%; margin:auto\">\n",
        "    The features\n",
        "</div>"
      ],
      "metadata": {
        "id": "6SnXFswRDnoB"
      }
    },
    {
      "cell_type": "code",
      "source": [
        "def kde_nums(train, test, original):\n",
        "    _, _, nums = fcn(test)\n",
        "    columns = nums\n",
        "    n_cols = 3\n",
        "    n_rows = math.ceil(len(columns)/n_cols)\n",
        "    fig, ax = plt.subplots(n_rows, n_cols, figsize=(16, n_rows*5))\n",
        "    ax = ax.flatten()\n",
        "\n",
        "    for i, column in enumerate(columns):\n",
        "        plot_axes = [ax[i]]\n",
        "\n",
        "        sns.kdeplot(train[column], label='Train', ax=ax[i], color=red)\n",
        "\n",
        "        sns.kdeplot(test[column], label='Test', ax=ax[i], color=blue)\n",
        "\n",
        "        if original is not None:\n",
        "            sns.kdeplot(original[column], label='Original', ax=ax[i], color=green)\n",
        "\n",
        "        # titles\n",
        "        ax[i].set_title(f'{column} Distribution');\n",
        "        ax[i].set_xlabel(None)\n",
        "\n",
        "        # remove axes to show only one at the end\n",
        "        plot_axes = [ax[i]]\n",
        "        handles = []\n",
        "        labels = []\n",
        "        for plot_ax in plot_axes:\n",
        "            handles += plot_ax.get_legend_handles_labels()[0]\n",
        "            labels += plot_ax.get_legend_handles_labels()[1]\n",
        "            plot_ax.legend().remove()\n",
        "\n",
        "    for i in range(i+1, len(ax)):\n",
        "        ax[i].axis('off')\n",
        "\n",
        "    fig.legend(handles, labels, loc='upper center', bbox_to_anchor=(0.5, 1.04), fontsize=14, ncol=3)\n",
        "    plt.tight_layout()"
      ],
      "metadata": {
        "_kg_hide-input": true,
        "execution": {
          "iopub.status.busy": "2024-10-09T11:16:23.110248Z",
          "iopub.execute_input": "2024-10-09T11:16:23.11062Z",
          "iopub.status.idle": "2024-10-09T11:16:23.121981Z",
          "shell.execute_reply.started": "2024-10-09T11:16:23.110585Z",
          "shell.execute_reply": "2024-10-09T11:16:23.12074Z"
        },
        "trusted": true,
        "id": "q7eMslMHDnoB"
      },
      "execution_count": null,
      "outputs": []
    },
    {
      "cell_type": "code",
      "source": [
        "if EDA:\n",
        "    print('Numerical features:')\n",
        "    kde_nums(train, test, original)"
      ],
      "metadata": {
        "_kg_hide-input": true,
        "execution": {
          "iopub.status.busy": "2024-10-09T11:16:23.123377Z",
          "iopub.execute_input": "2024-10-09T11:16:23.123788Z",
          "iopub.status.idle": "2024-10-09T11:16:32.01191Z",
          "shell.execute_reply.started": "2024-10-09T11:16:23.123746Z",
          "shell.execute_reply": "2024-10-09T11:16:32.010509Z"
        },
        "trusted": true,
        "id": "EbegSewiDnoB"
      },
      "execution_count": null,
      "outputs": []
    },
    {
      "cell_type": "code",
      "source": [
        "def count_cats(train, test, n_cols=3, tight=True):\n",
        "    _, columns, _ = fcn(test)\n",
        "    if len(columns) == 0:\n",
        "        return\n",
        "    n_cols = 4\n",
        "    n_rows = math.ceil(len(columns)/n_cols)\n",
        "    fig, ax = plt.subplots(n_rows, n_cols, figsize=(16, n_rows*5))\n",
        "    ax = ax.flatten()\n",
        "\n",
        "    for i, column in enumerate(columns):\n",
        "        vc = pd.DataFrame(train[column].value_counts()[:10]).reset_index()\n",
        "        sns.barplot(vc, y=column, x='count', ax=ax[i])\n",
        "\n",
        "        # titles\n",
        "        ax[i].set_title(f'{column} Top 10');\n",
        "        ax[i].set_xlabel('')\n",
        "        ax[i].set_ylabel('')\n",
        "        ax[i].bar_label(ax[i].containers[0])\n",
        "\n",
        "    if tight:\n",
        "        plt.tight_layout()\n"
      ],
      "metadata": {
        "_kg_hide-input": true,
        "execution": {
          "iopub.status.busy": "2024-10-09T11:16:32.01357Z",
          "iopub.execute_input": "2024-10-09T11:16:32.01405Z",
          "iopub.status.idle": "2024-10-09T11:16:32.02538Z",
          "shell.execute_reply.started": "2024-10-09T11:16:32.013998Z",
          "shell.execute_reply": "2024-10-09T11:16:32.023945Z"
        },
        "trusted": true,
        "id": "LICJKHYHDnoB"
      },
      "execution_count": null,
      "outputs": []
    },
    {
      "cell_type": "code",
      "source": [
        "if EDA:\n",
        "    print('Categorical features top most frequent values:')\n",
        "    count_cats(train, test)"
      ],
      "metadata": {
        "_kg_hide-input": true,
        "execution": {
          "iopub.status.busy": "2024-10-09T11:16:32.027179Z",
          "iopub.execute_input": "2024-10-09T11:16:32.027744Z",
          "iopub.status.idle": "2024-10-09T11:16:33.24244Z",
          "shell.execute_reply.started": "2024-10-09T11:16:32.027692Z",
          "shell.execute_reply": "2024-10-09T11:16:33.241241Z"
        },
        "trusted": true,
        "id": "P6CT48V7DnoC"
      },
      "execution_count": null,
      "outputs": []
    },
    {
      "cell_type": "code",
      "source": [
        "def count_cats_vs_target(train, test, n_cols=3, tight=True):\n",
        "    _, columns, _ = fcn(test)\n",
        "    if len(columns) == 0:\n",
        "        return\n",
        "\n",
        "    n_rows = math.ceil(len(columns)/n_cols)\n",
        "    fig, ax = plt.subplots(n_rows, n_cols, figsize=(16, n_rows*5))\n",
        "    ax = ax.flatten()\n",
        "\n",
        "    for i, column in enumerate(columns):\n",
        "        sns.countplot(train, x=column, hue=TARGET, ax=ax[i], palette={0:green, 1:red}) #\n",
        "\n",
        "        # titles\n",
        "        ax[i].set_title(f'{column}');\n",
        "        ax[i].set_xlabel('')\n",
        "        ax[i].set_ylabel('')\n",
        "        ax[i].bar_label(ax[i].containers[0])\n",
        "\n",
        "    if tight:\n",
        "        plt.tight_layout()\n",
        "\n",
        "if EDA and not PROBLEM in ['regression']:\n",
        "    print(f'Categorical features distributions vs {TARGET}:')\n",
        "    count_cats_vs_target(train, test, n_cols=1, tight=True)"
      ],
      "metadata": {
        "_kg_hide-input": true,
        "execution": {
          "iopub.status.busy": "2024-10-09T11:16:33.247541Z",
          "iopub.execute_input": "2024-10-09T11:16:33.247951Z",
          "iopub.status.idle": "2024-10-09T11:16:35.013805Z",
          "shell.execute_reply.started": "2024-10-09T11:16:33.24791Z",
          "shell.execute_reply": "2024-10-09T11:16:35.012697Z"
        },
        "trusted": true,
        "id": "0vvVOdjjDnoC"
      },
      "execution_count": null,
      "outputs": []
    },
    {
      "cell_type": "markdown",
      "source": [
        "<div style=\"display: block; padding: 3px 0; background-color: #ccffcc; color: black; font-size: 12px; font-weight: bold; border-radius: 12px; text-align: center; width: 100%; box-shadow: inset 4px 4px 8px rgba(255, 255, 255, 0.5), inset -4px -4px 8px rgba(0, 0, 0, 0.3); width:40%; margin:auto\">\n",
        "    Correlation\n",
        "</div>"
      ],
      "metadata": {
        "id": "avZPavK0DnoC"
      }
    },
    {
      "cell_type": "code",
      "source": [
        "if EDA:\n",
        "    df_corr(train[:1000], name='TRAIN')"
      ],
      "metadata": {
        "_kg_hide-input": true,
        "execution": {
          "iopub.status.busy": "2024-10-09T11:16:35.015116Z",
          "iopub.execute_input": "2024-10-09T11:16:35.015506Z",
          "iopub.status.idle": "2024-10-09T11:16:37.657318Z",
          "shell.execute_reply.started": "2024-10-09T11:16:35.015467Z",
          "shell.execute_reply": "2024-10-09T11:16:37.656136Z"
        },
        "trusted": true,
        "id": "BrR4ffTyDnoC"
      },
      "execution_count": null,
      "outputs": []
    },
    {
      "cell_type": "code",
      "source": [
        "df = train.groupby(['grade', 'intent', 'home_ownership'])[TARGET].agg(['mean']).reset_index()\n",
        "df['gih'] =  df['grade'] + '-' + df['intent'] + '-' + df['home_ownership']\n",
        "alpha = df[['gih', 'mean']].set_index('gih').to_dict()['mean']\n",
        "df = df.rename(columns={'mean':'mean_loan_state'})"
      ],
      "metadata": {
        "execution": {
          "iopub.status.busy": "2024-10-09T11:16:37.659433Z",
          "iopub.execute_input": "2024-10-09T11:16:37.659901Z",
          "iopub.status.idle": "2024-10-09T11:16:37.692404Z",
          "shell.execute_reply.started": "2024-10-09T11:16:37.659846Z",
          "shell.execute_reply": "2024-10-09T11:16:37.691303Z"
        },
        "trusted": true,
        "id": "iuXEe6FEDnoC"
      },
      "execution_count": null,
      "outputs": []
    },
    {
      "cell_type": "markdown",
      "source": [
        "<div style=\"display: block; padding: 3px 0; background-color: #ccccff; color: black; font-size: 12px; font-weight: bold; border-radius: 12px; text-align: center; width: 100%; box-shadow: inset 4px 4px 8px rgba(255, 255, 255, 0.5), inset -4px -4px 8px rgba(0, 0, 0, 0.3); width:30%; margin:auto\">\n",
        "    grade & intent vs mean loan state\n",
        "</div>"
      ],
      "metadata": {
        "id": "5dTsHt8hDnoC"
      }
    },
    {
      "cell_type": "code",
      "source": [
        "if EDA:\n",
        "    fig = px.scatter(df, x='grade', y='intent', color='mean_loan_state', height=800)\n",
        "    fig.update_traces(marker=dict(size=50))\n",
        "    display(fig)"
      ],
      "metadata": {
        "_kg_hide-input": true,
        "execution": {
          "iopub.status.busy": "2024-10-09T11:16:37.6939Z",
          "iopub.execute_input": "2024-10-09T11:16:37.694406Z",
          "iopub.status.idle": "2024-10-09T11:16:39.44614Z",
          "shell.execute_reply.started": "2024-10-09T11:16:37.694349Z",
          "shell.execute_reply": "2024-10-09T11:16:39.444901Z"
        },
        "trusted": true,
        "id": "sHLeSVsLDnoD"
      },
      "execution_count": null,
      "outputs": []
    },
    {
      "cell_type": "markdown",
      "source": [
        "<div style=\"display: block; padding: 3px 0; background-color: #ccccff; color: black; font-size: 12px; font-weight: bold; border-radius: 12px; text-align: center; width: 100%; box-shadow: inset 4px 4px 8px rgba(255, 255, 255, 0.5), inset -4px -4px 8px rgba(0, 0, 0, 0.3); width:30%; margin:auto\">\n",
        "    grade & home ownership vs mean loan state\n",
        "</div>"
      ],
      "metadata": {
        "id": "tGzSNddgDnoD"
      }
    },
    {
      "cell_type": "code",
      "source": [
        "if EDA:\n",
        "    fig = px.scatter(df, x='grade', y='home_ownership', color='mean_loan_state', height=800)\n",
        "    fig.update_traces(marker=dict(size=50))\n",
        "    display(fig)"
      ],
      "metadata": {
        "_kg_hide-input": true,
        "execution": {
          "iopub.status.busy": "2024-10-09T11:16:39.447539Z",
          "iopub.execute_input": "2024-10-09T11:16:39.447883Z",
          "iopub.status.idle": "2024-10-09T11:16:39.521346Z",
          "shell.execute_reply.started": "2024-10-09T11:16:39.447849Z",
          "shell.execute_reply": "2024-10-09T11:16:39.520076Z"
        },
        "trusted": true,
        "id": "LLHhV87YDnoD"
      },
      "execution_count": null,
      "outputs": []
    },
    {
      "cell_type": "markdown",
      "source": [
        "<div style=\"display: block; padding: 3px 0; background-color: #ccccff; color: black; font-size: 12px; font-weight: bold; border-radius: 12px; text-align: center; width: 100%; box-shadow: inset 4px 4px 8px rgba(255, 255, 255, 0.5), inset -4px -4px 8px rgba(0, 0, 0, 0.3); width:30%; margin:auto\">\n",
        "    intent & home ownership vs mean loan state\n",
        "</div>"
      ],
      "metadata": {
        "id": "JpJ-a59xDnoD"
      }
    },
    {
      "cell_type": "code",
      "source": [
        "if EDA:\n",
        "    fig = px.scatter(df, x='home_ownership', y='intent', color='mean_loan_state', height=800)\n",
        "    fig.update_traces(marker=dict(size=50))\n",
        "    display(fig)"
      ],
      "metadata": {
        "_kg_hide-input": true,
        "execution": {
          "iopub.status.busy": "2024-10-09T11:16:39.522833Z",
          "iopub.execute_input": "2024-10-09T11:16:39.523217Z",
          "iopub.status.idle": "2024-10-09T11:16:39.591457Z",
          "shell.execute_reply.started": "2024-10-09T11:16:39.523179Z",
          "shell.execute_reply": "2024-10-09T11:16:39.590303Z"
        },
        "trusted": true,
        "id": "Tm1EEvJFDnoI"
      },
      "execution_count": null,
      "outputs": []
    },
    {
      "cell_type": "markdown",
      "source": [
        "<div style=\"display: block; padding: 3px 0; background-color: #ccccff; color: black; font-size: 12px; font-weight: bold; border-radius: 12px; text-align: center; width: 100%; box-shadow: inset 4px 4px 8px rgba(255, 255, 255, 0.5), inset -4px -4px 8px rgba(0, 0, 0, 0.3); width:30%; margin:auto\">\n",
        "    grade & intent & home ownership vs mean loan state\n",
        "</div>"
      ],
      "metadata": {
        "id": "fa8ypsnKDnoJ"
      }
    },
    {
      "cell_type": "code",
      "source": [
        "if EDA:\n",
        "    fig = px.scatter_3d(df, x='grade', y='intent', z='home_ownership', color='mean_loan_state', height=800)\n",
        "    fig.update_traces(marker=dict(size=10))\n",
        "    display(fig)"
      ],
      "metadata": {
        "_kg_hide-input": true,
        "execution": {
          "iopub.status.busy": "2024-10-09T11:16:39.592693Z",
          "iopub.execute_input": "2024-10-09T11:16:39.593042Z",
          "iopub.status.idle": "2024-10-09T11:16:39.718906Z",
          "shell.execute_reply.started": "2024-10-09T11:16:39.593003Z",
          "shell.execute_reply": "2024-10-09T11:16:39.717875Z"
        },
        "trusted": true,
        "id": "QhNcPqQeDnoJ"
      },
      "execution_count": null,
      "outputs": []
    },
    {
      "cell_type": "markdown",
      "source": [
        "# &#128476; Data Preprocessing"
      ],
      "metadata": {
        "id": "q9bI6Z4xDnoJ"
      }
    },
    {
      "cell_type": "markdown",
      "source": [
        "<div style=\"display: block; padding: 3px 0; background-color: #ccffcc; color: black; font-size: 12px; font-weight: bold; border-radius: 12px; text-align: center; width: 100%; box-shadow: inset 4px 4px 8px rgba(255, 255, 255, 0.5), inset -4px -4px 8px rgba(0, 0, 0, 0.3); width:40%; margin:auto\">\n",
        "    Set the base for dataset evaluation\n",
        "</div>"
      ],
      "metadata": {
        "id": "suic1zKlDnoJ"
      }
    },
    {
      "cell_type": "code",
      "source": [
        "datasets_scores = {}\n",
        "evaluate_dataset(train, test, 'LOADED')"
      ],
      "metadata": {
        "_kg_hide-input": false,
        "execution": {
          "iopub.status.busy": "2024-10-09T11:16:39.720421Z",
          "iopub.execute_input": "2024-10-09T11:16:39.720796Z",
          "iopub.status.idle": "2024-10-09T11:16:56.364313Z",
          "shell.execute_reply.started": "2024-10-09T11:16:39.720761Z",
          "shell.execute_reply": "2024-10-09T11:16:56.363185Z"
        },
        "trusted": true,
        "id": "-ZDO-LuCDnoJ"
      },
      "execution_count": null,
      "outputs": []
    },
    {
      "cell_type": "markdown",
      "source": [
        "<div style=\"display: block; padding: 3px 0; background-color: #ccffcc; color: black; font-size: 12px; font-weight: bold; border-radius: 12px; text-align: center; width: 100%; box-shadow: inset 4px 4px 8px rgba(255, 255, 255, 0.5), inset -4px -4px 8px rgba(0, 0, 0, 0.3); width:40%; margin:auto\">\n",
        "    Add original\n",
        "</div>"
      ],
      "metadata": {
        "id": "8_zRzlCNDnoJ"
      }
    },
    {
      "cell_type": "markdown",
      "source": [
        "* *and check if the CV score is better*\n",
        "* *optional, use original or not it depends*"
      ],
      "metadata": {
        "id": "TUZqmPqGDnoJ"
      }
    },
    {
      "cell_type": "code",
      "source": [
        "def add_original(train_, original_):\n",
        "    f = train_.columns.tolist()\n",
        "    train = pd.concat([train_, original_[f]], axis=0, ignore_index=True).reset_index(drop=True)\n",
        "    return train"
      ],
      "metadata": {
        "_kg_hide-input": true,
        "execution": {
          "iopub.status.busy": "2024-10-09T11:16:56.365738Z",
          "iopub.execute_input": "2024-10-09T11:16:56.366093Z",
          "iopub.status.idle": "2024-10-09T11:16:56.372609Z",
          "shell.execute_reply.started": "2024-10-09T11:16:56.366058Z",
          "shell.execute_reply": "2024-10-09T11:16:56.371191Z"
        },
        "trusted": true,
        "id": "qdifEQlVDnoK"
      },
      "execution_count": null,
      "outputs": []
    },
    {
      "cell_type": "code",
      "source": [
        "if original is not None:\n",
        "    train_add = add_original(train, original)\n",
        "    df_info(train_add, 'TRAIN + ORIGINAL')"
      ],
      "metadata": {
        "_kg_hide-input": true,
        "execution": {
          "iopub.status.busy": "2024-10-09T11:16:56.374523Z",
          "iopub.execute_input": "2024-10-09T11:16:56.374908Z",
          "iopub.status.idle": "2024-10-09T11:16:56.637676Z",
          "shell.execute_reply.started": "2024-10-09T11:16:56.374868Z",
          "shell.execute_reply": "2024-10-09T11:16:56.636555Z"
        },
        "trusted": true,
        "id": "y4_SeA4SDnoK"
      },
      "execution_count": null,
      "outputs": []
    },
    {
      "cell_type": "code",
      "source": [
        "if original is not None:\n",
        "    evaluate_dataset(train_add, test, 'TRAIN+ORIGINAL')"
      ],
      "metadata": {
        "_kg_hide-input": true,
        "execution": {
          "iopub.status.busy": "2024-10-09T11:16:56.639048Z",
          "iopub.execute_input": "2024-10-09T11:16:56.639434Z",
          "iopub.status.idle": "2024-10-09T11:17:20.820933Z",
          "shell.execute_reply.started": "2024-10-09T11:16:56.639395Z",
          "shell.execute_reply": "2024-10-09T11:17:20.819365Z"
        },
        "trusted": true,
        "id": "ZAqOYR48DnoK"
      },
      "execution_count": null,
      "outputs": []
    },
    {
      "cell_type": "markdown",
      "source": [
        "## Cleaning"
      ],
      "metadata": {
        "id": "vKlA5P1tDnoK"
      }
    },
    {
      "cell_type": "code",
      "source": [
        "px.scatter(train_add, x='age', y='emp_length', color=TARGET)"
      ],
      "metadata": {
        "execution": {
          "iopub.status.busy": "2024-10-09T11:17:20.823792Z",
          "iopub.execute_input": "2024-10-09T11:17:20.824729Z",
          "iopub.status.idle": "2024-10-09T11:17:21.021884Z",
          "shell.execute_reply.started": "2024-10-09T11:17:20.82467Z",
          "shell.execute_reply": "2024-10-09T11:17:21.020781Z"
        },
        "trusted": true,
        "id": "8m5kifTtDnoK"
      },
      "execution_count": null,
      "outputs": []
    },
    {
      "cell_type": "markdown",
      "source": [
        "There are outliers, consider to remove"
      ],
      "metadata": {
        "id": "ILsEge6SDnoK"
      }
    },
    {
      "cell_type": "code",
      "source": [
        "sns.boxplot(train_add, x='intent', y='int_rate')"
      ],
      "metadata": {
        "execution": {
          "iopub.status.busy": "2024-10-09T11:17:21.023279Z",
          "iopub.execute_input": "2024-10-09T11:17:21.023662Z",
          "iopub.status.idle": "2024-10-09T11:17:21.45808Z",
          "shell.execute_reply.started": "2024-10-09T11:17:21.023623Z",
          "shell.execute_reply": "2024-10-09T11:17:21.456934Z"
        },
        "trusted": true,
        "id": "RI8ndzo_DnoL"
      },
      "execution_count": null,
      "outputs": []
    },
    {
      "cell_type": "markdown",
      "source": [
        "* we will remove outliers (clip or drop) in age and emp_length\n",
        "* fill emp_length with f(age), optional"
      ],
      "metadata": {
        "id": "vAQX-YFxDnoL"
      }
    },
    {
      "cell_type": "code",
      "source": [
        "def clean(train_, test_):\n",
        "    train, test = train_.copy(), test_.copy()\n",
        "\n",
        "    train = train.drop(train[train['age'] > 100].index)\n",
        "    train = train.drop(train[train['emp_length'] > 100].index)\n",
        "    train = train.reset_index(drop=True)\n",
        "\n",
        "#     train = train.drop_duplicates(ignore_index=True)\n",
        "\n",
        "#     int_rate_mean = train['int_rate'].mean()\n",
        "#     k = train['emp_length'].mean() / train['age'].mean()\n",
        "#     for df in [train, test]:\n",
        "#         df['age'] = np.clip(df['age'], 15, 70)\n",
        "#         df['emp_length'] = np.clip(df['emp_length'], 0, 40)\n",
        "#         df['int_rate'] = int_rate_mean\n",
        "#         df['emp_length'] = df['emp_length'].fillna(df['age'] * k)\n",
        "    return train, test\n",
        "\n",
        "train_cleaned, test_cleaned = clean(train_add, test)"
      ],
      "metadata": {
        "_kg_hide-input": true,
        "execution": {
          "iopub.status.busy": "2024-10-09T11:17:21.459413Z",
          "iopub.execute_input": "2024-10-09T11:17:21.45976Z",
          "iopub.status.idle": "2024-10-09T11:17:21.50092Z",
          "shell.execute_reply.started": "2024-10-09T11:17:21.459725Z",
          "shell.execute_reply": "2024-10-09T11:17:21.499703Z"
        },
        "trusted": true,
        "id": "hIMoew1iDnoL"
      },
      "execution_count": null,
      "outputs": []
    },
    {
      "cell_type": "code",
      "source": [
        "px.scatter(train_cleaned, x='age', y='emp_length', color=TARGET)"
      ],
      "metadata": {
        "execution": {
          "iopub.status.busy": "2024-10-09T11:17:21.502467Z",
          "iopub.execute_input": "2024-10-09T11:17:21.502889Z",
          "iopub.status.idle": "2024-10-09T11:17:21.675344Z",
          "shell.execute_reply.started": "2024-10-09T11:17:21.502843Z",
          "shell.execute_reply": "2024-10-09T11:17:21.674063Z"
        },
        "trusted": true,
        "id": "n7QgPPAMDnoL"
      },
      "execution_count": null,
      "outputs": []
    },
    {
      "cell_type": "code",
      "source": [
        "evaluate_dataset(train_cleaned, test_cleaned, 'CLEANED')"
      ],
      "metadata": {
        "_kg_hide-input": true,
        "execution": {
          "iopub.status.busy": "2024-10-09T11:17:21.676948Z",
          "iopub.execute_input": "2024-10-09T11:17:21.677343Z",
          "iopub.status.idle": "2024-10-09T11:17:45.079622Z",
          "shell.execute_reply.started": "2024-10-09T11:17:21.677304Z",
          "shell.execute_reply": "2024-10-09T11:17:45.078409Z"
        },
        "trusted": true,
        "id": "QhUkXZpaDnoM"
      },
      "execution_count": null,
      "outputs": []
    },
    {
      "cell_type": "markdown",
      "source": [
        "## Feature engineering\n"
      ],
      "metadata": {
        "id": "a_Tqyl2mDnoM"
      }
    },
    {
      "cell_type": "code",
      "source": [
        "fig, ax = plt.subplots(1, 3, figsize=(16, 3))\n",
        "ax = ax.flatten()\n",
        "column = 'income'\n",
        "i = 0\n",
        "sns.kdeplot(train[column], label='Train', ax=ax[i], color=red)\n",
        "sns.kdeplot(test[column], label='Test', ax=ax[i], color=blue)\n",
        "# titles\n",
        "ax[i].set_title(f'{column} Distribution');\n",
        "ax[i].set_xlabel(None)\n",
        "i = 1\n",
        "sns.kdeplot(np.log(train[column]), label='Train', ax=ax[i], color=red)\n",
        "sns.kdeplot(np.log(test[column]), label='Test', ax=ax[i], color=blue)\n",
        "# titles\n",
        "ax[i].set_title(f'log {column} Distribution');\n",
        "ax[i].set_xlabel(None)\n",
        "sns.scatterplot(train, x=np.log(train['income']), y='amnt',  hue=TARGET, palette={0:green, 1:red})\n",
        "\n",
        "plt.tight_layout()"
      ],
      "metadata": {
        "_kg_hide-input": true,
        "_kg_hide-output": false,
        "execution": {
          "iopub.status.busy": "2024-10-09T11:17:45.080961Z",
          "iopub.execute_input": "2024-10-09T11:17:45.081364Z",
          "iopub.status.idle": "2024-10-09T11:17:52.541169Z",
          "shell.execute_reply.started": "2024-10-09T11:17:45.081325Z",
          "shell.execute_reply": "2024-10-09T11:17:52.540106Z"
        },
        "trusted": true,
        "id": "9SkI6N7jDnoM"
      },
      "execution_count": null,
      "outputs": []
    },
    {
      "cell_type": "code",
      "source": [
        "def feature_engineering(df_):\n",
        "    df = df_.copy()\n",
        "    df['loantoincome'] = (df['amnt'] / df['income']) - df['percent_income']\n",
        "    df['income'] = np.log(df['income'])\n",
        "    return df\n",
        "\n",
        "train_fe, test_fe = feature_engineering(train_cleaned), feature_engineering(test_cleaned)\n",
        "\n",
        "# train_fe.drop_duplicates(inplace=True, ignore_index=True)\n",
        "\n",
        "df_info(train_fe, 'TRAIN FE')"
      ],
      "metadata": {
        "_kg_hide-input": true,
        "execution": {
          "iopub.status.busy": "2024-10-09T11:17:52.542592Z",
          "iopub.execute_input": "2024-10-09T11:17:52.542964Z",
          "iopub.status.idle": "2024-10-09T11:17:52.804349Z",
          "shell.execute_reply.started": "2024-10-09T11:17:52.542924Z",
          "shell.execute_reply": "2024-10-09T11:17:52.803104Z"
        },
        "trusted": true,
        "id": "RWtEzZ1cDnoM"
      },
      "execution_count": null,
      "outputs": []
    },
    {
      "cell_type": "code",
      "source": [
        "evaluate_dataset(train_fe, test_fe, 'FE')"
      ],
      "metadata": {
        "_kg_hide-input": true,
        "execution": {
          "iopub.status.busy": "2024-10-09T11:17:52.805683Z",
          "iopub.execute_input": "2024-10-09T11:17:52.80604Z",
          "iopub.status.idle": "2024-10-09T11:18:17.861461Z",
          "shell.execute_reply.started": "2024-10-09T11:17:52.806004Z",
          "shell.execute_reply": "2024-10-09T11:18:17.860424Z"
        },
        "trusted": true,
        "id": "M-yafdr4DnoN"
      },
      "execution_count": null,
      "outputs": []
    },
    {
      "cell_type": "code",
      "source": [
        "df = train_cleaned.groupby(['grade', 'intent', 'home_ownership'])[TARGET].agg(['mean']).reset_index()\n",
        "df['gih'] =  df['grade'] + '-' + df['intent'] + '-' + df['home_ownership']\n",
        "alpha = df[['gih', 'mean']].set_index('gih').to_dict()['mean']"
      ],
      "metadata": {
        "execution": {
          "iopub.status.busy": "2024-10-09T11:18:17.862753Z",
          "iopub.execute_input": "2024-10-09T11:18:17.863107Z",
          "iopub.status.idle": "2024-10-09T11:18:17.898675Z",
          "shell.execute_reply.started": "2024-10-09T11:18:17.863068Z",
          "shell.execute_reply": "2024-10-09T11:18:17.897556Z"
        },
        "trusted": true,
        "id": "tCH22rLjDnoN"
      },
      "execution_count": null,
      "outputs": []
    },
    {
      "cell_type": "code",
      "source": [
        "def feature_a(df_):\n",
        "    df = df_.copy()\n",
        "    df['gih'] =  df['grade'] + '-' + df['intent'] + '-' + df['home_ownership']\n",
        "    df['gih'] = df['gih'].astype('category')\n",
        "    df['alpha'] = df['gih'].apply(lambda x:alpha[x] if x in alpha else 0.3333)\n",
        "    return df\n",
        "\n",
        "train_a, test_a = feature_a(train_cleaned), feature_a(test_cleaned)\n",
        "\n",
        "fig, ax = plt.subplots(1, 3, figsize=(16, 5))\n",
        "ax = ax.flatten()\n",
        "column = 'alpha'\n",
        "i = 0\n",
        "sns.kdeplot(train_a[column], label='Train', ax=ax[i], color=red)\n",
        "sns.kdeplot(test_a[column], label='Test', ax=ax[i], color=blue)\n",
        "ax[i].legend()\n",
        "# titles\n",
        "ax[i].set_title(f'{column} Distribution');\n",
        "ax[i].set_xlabel(None)\n",
        "i = 1\n",
        "sns.kdeplot(train_a, x=column, label='alpha', hue=TARGET, ax=ax[i], palette={0:green, 1:red})\n",
        "# titles\n",
        "ax[i].set_title(f'{column} Distribution');\n",
        "ax[i].set_xlabel(None)\n",
        "sns.scatterplot(train_a, x=np.log(train['income']), y=column,  hue=TARGET, palette={0:green, 1:red})\n",
        "\n",
        "plt.tight_layout()\n",
        "\n",
        "    # -DL\n",
        "train_a.drop(['alpha'], axis=1, inplace=True)\n",
        "test_a.drop(['alpha'], axis=1, inplace=True)"
      ],
      "metadata": {
        "_kg_hide-input": true,
        "execution": {
          "iopub.status.busy": "2024-10-09T11:18:17.899996Z",
          "iopub.execute_input": "2024-10-09T11:18:17.900351Z",
          "iopub.status.idle": "2024-10-09T11:18:23.670313Z",
          "shell.execute_reply.started": "2024-10-09T11:18:17.900316Z",
          "shell.execute_reply": "2024-10-09T11:18:23.669096Z"
        },
        "trusted": true,
        "id": "FTX-I9zyDnoN"
      },
      "execution_count": null,
      "outputs": []
    },
    {
      "cell_type": "code",
      "source": [
        "evaluate_dataset(train_a, test_a, 'FE A')"
      ],
      "metadata": {
        "_kg_hide-input": true,
        "execution": {
          "iopub.status.busy": "2024-10-09T11:18:23.671915Z",
          "iopub.execute_input": "2024-10-09T11:18:23.672414Z",
          "iopub.status.idle": "2024-10-09T11:18:50.55689Z",
          "shell.execute_reply.started": "2024-10-09T11:18:23.672363Z",
          "shell.execute_reply": "2024-10-09T11:18:50.555319Z"
        },
        "trusted": true,
        "id": "neZvlAbkDnoO"
      },
      "execution_count": null,
      "outputs": []
    },
    {
      "cell_type": "code",
      "source": [
        "im, em, k = train_fe['income'].max(), train_fe['emp_length'].max(), 1\n",
        "a = k * em / im\n",
        "train_b, test_b = train_fe.copy(), test_fe.copy()\n",
        "train_b['beta'] = a * train_b['income'] + train_b['emp_length']\n",
        "test_b['beta'] = a * test_b['income'] + test_b['emp_length']\n",
        "\n",
        "fig, ax = plt.subplots(1, 3, figsize=(16, 5))\n",
        "ax = ax.flatten()\n",
        "column = 'beta'\n",
        "i = 0\n",
        "sns.kdeplot(train_b[column], label='Train', ax=ax[i], color=red)\n",
        "sns.kdeplot(test_b[column], label='Test', ax=ax[i], color=blue)\n",
        "# titles\n",
        "ax[i].set_title(f'{column} Distribution');\n",
        "ax[i].set_xlabel(None)\n",
        "i = 1\n",
        "sns.kdeplot(train_b, x=column, label='beta', hue=TARGET, ax=ax[i], palette={0:green, 1:red})\n",
        "# titles\n",
        "ax[i].set_title(f'{column} Distribution');\n",
        "ax[i].set_xlabel(None)\n",
        "sns.violinplot(train_b, y=column,  x=TARGET)\n",
        "\n",
        "plt.tight_layout()"
      ],
      "metadata": {
        "execution": {
          "iopub.status.busy": "2024-10-09T11:18:50.560862Z",
          "iopub.execute_input": "2024-10-09T11:18:50.561317Z",
          "iopub.status.idle": "2024-10-09T11:18:53.169496Z",
          "shell.execute_reply.started": "2024-10-09T11:18:50.561274Z",
          "shell.execute_reply": "2024-10-09T11:18:53.168055Z"
        },
        "trusted": true,
        "id": "j2XTgyZ2DnoO"
      },
      "execution_count": null,
      "outputs": []
    },
    {
      "cell_type": "code",
      "source": [
        "evaluate_dataset(train_b, test_b, 'FE B')"
      ],
      "metadata": {
        "_kg_hide-input": true,
        "execution": {
          "iopub.status.busy": "2024-10-09T11:18:53.1711Z",
          "iopub.execute_input": "2024-10-09T11:18:53.171589Z",
          "iopub.status.idle": "2024-10-09T11:19:19.193051Z",
          "shell.execute_reply.started": "2024-10-09T11:18:53.171539Z",
          "shell.execute_reply": "2024-10-09T11:19:19.191647Z"
        },
        "trusted": true,
        "id": "U-vE134ZDnoO"
      },
      "execution_count": null,
      "outputs": []
    },
    {
      "cell_type": "markdown",
      "source": [
        "### Imputation"
      ],
      "metadata": {
        "id": "p7a4vWlhDnoP"
      }
    },
    {
      "cell_type": "code",
      "source": [
        "def impute(df_):\n",
        "    df = df_.copy()\n",
        "    _, category_columns, nums = fcn(df)\n",
        "    df[category_columns] = df[category_columns].astype('object').fillna('none').astype('category')\n",
        "    df[nums] = df[nums].fillna(0)\n",
        "    return df\n",
        "\n",
        "train_imputed = impute(train_fe)\n",
        "test_imputed = impute(test_fe)\n",
        "\n",
        "df_info(train_imputed, 'TRAIN IMPUTED', tab=False, plots=False)\n",
        "df_info(test_imputed, 'TEST IMPUTED', tab=False, plots=False)"
      ],
      "metadata": {
        "execution": {
          "iopub.status.busy": "2024-10-09T11:19:19.194904Z",
          "iopub.execute_input": "2024-10-09T11:19:19.195409Z",
          "iopub.status.idle": "2024-10-09T11:19:19.531407Z",
          "shell.execute_reply.started": "2024-10-09T11:19:19.195364Z",
          "shell.execute_reply": "2024-10-09T11:19:19.53033Z"
        },
        "trusted": true,
        "id": "5nBEab3uDnoP"
      },
      "execution_count": null,
      "outputs": []
    },
    {
      "cell_type": "code",
      "source": [
        "evaluate_dataset(train_imputed, test_imputed, 'IMPUTED')"
      ],
      "metadata": {
        "execution": {
          "iopub.status.busy": "2024-10-09T11:19:19.53293Z",
          "iopub.execute_input": "2024-10-09T11:19:19.533389Z",
          "iopub.status.idle": "2024-10-09T11:19:44.572644Z",
          "shell.execute_reply.started": "2024-10-09T11:19:19.533348Z",
          "shell.execute_reply": "2024-10-09T11:19:44.571409Z"
        },
        "trusted": true,
        "id": "nbL2QPGgDnoP"
      },
      "execution_count": null,
      "outputs": []
    },
    {
      "cell_type": "markdown",
      "source": [
        "### Encoding"
      ],
      "metadata": {
        "id": "wBcDcn2hDnoP"
      }
    },
    {
      "cell_type": "code",
      "source": [
        "encoder = OrdinalEncoder()\n",
        "train_encoded, test_encoded = train_imputed.copy(), test_imputed.copy()\n",
        "\n",
        "category_columns = test_encoded.select_dtypes(include=['object', 'category']).columns.tolist()\n",
        "tmp_df = pd.concat([train_encoded, test_encoded], axis='rows')\n",
        "tmp_df[category_columns] = encoder.fit_transform(tmp_df[category_columns])\n",
        "train_encoded[category_columns] = encoder.transform(train_encoded[category_columns])\n",
        "train_encoded[category_columns] = train_encoded[category_columns].astype('int32').astype('category')\n",
        "test_encoded[category_columns] = encoder.transform(test_encoded[category_columns])\n",
        "test_encoded[category_columns] = test_encoded[category_columns].astype('int32').astype('category')\n",
        "\n",
        "df_info(train_encoded, 'TRAIN ENCODED', tab=True, plots=False)\n",
        "df_info(test_encoded, 'TEST ENCODED', tab=True, plots=False)"
      ],
      "metadata": {
        "execution": {
          "iopub.status.busy": "2024-10-09T11:19:44.574701Z",
          "iopub.execute_input": "2024-10-09T11:19:44.575179Z",
          "iopub.status.idle": "2024-10-09T11:19:45.128534Z",
          "shell.execute_reply.started": "2024-10-09T11:19:44.575128Z",
          "shell.execute_reply": "2024-10-09T11:19:45.127279Z"
        },
        "trusted": true,
        "id": "dqfO7AXxDnoP"
      },
      "execution_count": null,
      "outputs": []
    },
    {
      "cell_type": "code",
      "source": [
        "evaluate_dataset(train_encoded, test_encoded, 'ENCODED')"
      ],
      "metadata": {
        "execution": {
          "iopub.status.busy": "2024-10-09T11:19:45.138629Z",
          "iopub.execute_input": "2024-10-09T11:19:45.139039Z",
          "iopub.status.idle": "2024-10-09T11:20:10.16594Z",
          "shell.execute_reply.started": "2024-10-09T11:19:45.139004Z",
          "shell.execute_reply": "2024-10-09T11:20:10.164688Z"
        },
        "trusted": true,
        "id": "moHdZrC8DnoQ"
      },
      "execution_count": null,
      "outputs": []
    },
    {
      "cell_type": "markdown",
      "source": [
        "### One Hot Encoding"
      ],
      "metadata": {
        "id": "QLFA0BTdDnoQ"
      }
    },
    {
      "cell_type": "code",
      "source": [
        "def onehot(train_, test_):\n",
        "    encoder = OneHotEncoder(sparse=False)\n",
        "    train, test = train_.copy(), test_.copy()\n",
        "\n",
        "    f, c, n = fcn(test)\n",
        "\n",
        "    # Remove categorical columns (will replace with one-hot encoding)\n",
        "    num_train = train[n]\n",
        "    num_test = test[n]\n",
        "\n",
        "    OH_cols_train = pd.DataFrame(encoder.fit_transform(train[c])).astype(int).astype('category')\n",
        "    OH_cols_test = pd.DataFrame(encoder.transform(test[c])).astype(int).astype('category')\n",
        "\n",
        "    names = encoder.get_feature_names_out()\n",
        "\n",
        "    OH_cols_train.columns = names\n",
        "    OH_cols_test.columns =  names\n",
        "\n",
        "    # One-hot encoding removed index; put it back\n",
        "    OH_cols_train.index = train.index\n",
        "    OH_cols_test.index = test.index\n",
        "\n",
        "    # Add one-hot encoded columns to numerical features\n",
        "    OH_train = pd.concat([num_train, OH_cols_train], axis=1)\n",
        "    OH_test = pd.concat([num_test, OH_cols_test], axis=1)\n",
        "\n",
        "    # Ensure all columns have string type\n",
        "    OH_train.columns = OH_train.columns.astype(str)\n",
        "    OH_test.columns = OH_test.columns.astype(str)\n",
        "\n",
        "    OH_train[TARGET] = train[TARGET]\n",
        "\n",
        "    return OH_train, OH_test\n",
        "\n",
        "train_oh, test_oh = onehot(train_imputed, test_imputed)\n",
        "# train_oh.drop_duplicates(inplace=True, ignore_index=True)\n",
        "df_info(train_oh, 'TRAIN  OH', tab=True, plots=False)\n",
        "df_info(test_oh, 'TEST OH', tab=True, plots=False)"
      ],
      "metadata": {
        "execution": {
          "iopub.status.busy": "2024-10-09T11:20:10.167431Z",
          "iopub.execute_input": "2024-10-09T11:20:10.167877Z",
          "iopub.status.idle": "2024-10-09T11:20:10.825071Z",
          "shell.execute_reply.started": "2024-10-09T11:20:10.167837Z",
          "shell.execute_reply": "2024-10-09T11:20:10.824032Z"
        },
        "trusted": true,
        "id": "n-pyKFwbDnoQ"
      },
      "execution_count": null,
      "outputs": []
    },
    {
      "cell_type": "code",
      "source": [
        "if EDA and not PROBLEM in ['regression']:\n",
        "    print(f'OneHot features distributions vs {TARGET}:')\n",
        "    count_cats_vs_target(train_oh, test_oh, n_cols=6, tight=True)"
      ],
      "metadata": {
        "execution": {
          "iopub.status.busy": "2024-10-09T11:20:10.826516Z",
          "iopub.execute_input": "2024-10-09T11:20:10.826874Z",
          "iopub.status.idle": "2024-10-09T11:20:17.544577Z",
          "shell.execute_reply.started": "2024-10-09T11:20:10.826837Z",
          "shell.execute_reply": "2024-10-09T11:20:17.543073Z"
        },
        "trusted": true,
        "id": "HQOFAYWqDnoQ"
      },
      "execution_count": null,
      "outputs": []
    },
    {
      "cell_type": "code",
      "source": [
        "evaluate_dataset(train_oh, test_oh, 'ENCODED')"
      ],
      "metadata": {
        "execution": {
          "iopub.status.busy": "2024-10-09T11:20:17.5464Z",
          "iopub.execute_input": "2024-10-09T11:20:17.546822Z",
          "iopub.status.idle": "2024-10-09T11:20:47.737287Z",
          "shell.execute_reply.started": "2024-10-09T11:20:17.546782Z",
          "shell.execute_reply": "2024-10-09T11:20:47.736311Z"
        },
        "trusted": true,
        "id": "Qe9e671SDnoQ"
      },
      "execution_count": null,
      "outputs": []
    },
    {
      "cell_type": "markdown",
      "source": [
        "### Scaling"
      ],
      "metadata": {
        "id": "pd3TauYZDnoQ"
      }
    },
    {
      "cell_type": "code",
      "source": [
        "train_scaled, test_scaled = train_encoded.copy(), test_encoded.copy()\n",
        "features, cats, nums = fcn(test_scaled)\n",
        "scaler = StandardScaler()\n",
        "train_scaled[nums] = scaler.fit_transform(train_scaled[nums])\n",
        "test_scaled[nums] = scaler.transform(test_scaled[nums])\n",
        "\n",
        "df_info(train_scaled, 'TRAIN SCALED', tab=True, plots=False)\n",
        "df_info(test_scaled, 'TEST SCALED', tab=True, plots=False)\n",
        "kde_nums(train_scaled, test_scaled, None)"
      ],
      "metadata": {
        "execution": {
          "iopub.status.busy": "2024-10-09T11:20:47.738577Z",
          "iopub.execute_input": "2024-10-09T11:20:47.738914Z",
          "iopub.status.idle": "2024-10-09T11:20:58.585503Z",
          "shell.execute_reply.started": "2024-10-09T11:20:47.738878Z",
          "shell.execute_reply": "2024-10-09T11:20:58.584012Z"
        },
        "trusted": true,
        "id": "tWd8zZgoDnoR"
      },
      "execution_count": null,
      "outputs": []
    },
    {
      "cell_type": "code",
      "source": [
        "evaluate_dataset(train_scaled, test_scaled, 'SCALED')"
      ],
      "metadata": {
        "execution": {
          "iopub.status.busy": "2024-10-09T11:20:58.586952Z",
          "iopub.execute_input": "2024-10-09T11:20:58.587319Z",
          "iopub.status.idle": "2024-10-09T11:21:23.109862Z",
          "shell.execute_reply.started": "2024-10-09T11:20:58.587283Z",
          "shell.execute_reply": "2024-10-09T11:21:23.108887Z"
        },
        "trusted": true,
        "id": "p2WKj8kLDnoR"
      },
      "execution_count": null,
      "outputs": []
    },
    {
      "cell_type": "markdown",
      "source": [
        "### 2nd Scaling"
      ],
      "metadata": {
        "id": "IOjC3f8FDnoR"
      }
    },
    {
      "cell_type": "code",
      "source": [
        "def scale2(train_, test_):\n",
        "    train, test = train_.copy(), test_.copy()\n",
        "\n",
        "    features, cats, nums = fcn(test_scaled)\n",
        "\n",
        "    TRAIN_LN = len(train)\n",
        "    test[TARGET] = 0\n",
        "    train = pd.concat([train,test],axis=0,ignore_index=True)\n",
        "\n",
        "    # STANDARIZE NUMERICAL FEATURES\n",
        "    for c in nums:\n",
        "        print(c,', ',end='')\n",
        "        m = train[c].mean()\n",
        "        s = train[c].std()\n",
        "        train[c] = (train[c]-m)/s\n",
        "        train[c] = train[c].fillna(0)\n",
        "\n",
        "    test = train.iloc[TRAIN_LN:]\n",
        "    train = train.iloc[:TRAIN_LN]\n",
        "\n",
        "    for c in cats:\n",
        "        train[c] =  train[c].astype('category')\n",
        "        test[c] =  test[c].astype('category')\n",
        "    return train, test[features]\n",
        "\n",
        "train_scaled2, test_scaled2 = scale2(train_encoded, test_encoded)\n",
        "\n",
        "df_info(train_scaled2, 'TRAIN SCALED2', tab=True, plots=False)\n",
        "df_info(test_scaled2, 'TEST SCALED2', tab=True, plots=False)\n",
        "kde_nums(train_scaled2, test_scaled2, None)"
      ],
      "metadata": {
        "execution": {
          "iopub.status.busy": "2024-10-09T11:21:23.111323Z",
          "iopub.execute_input": "2024-10-09T11:21:23.111764Z",
          "iopub.status.idle": "2024-10-09T11:21:33.521956Z",
          "shell.execute_reply.started": "2024-10-09T11:21:23.111714Z",
          "shell.execute_reply": "2024-10-09T11:21:33.520752Z"
        },
        "trusted": true,
        "id": "dv6yKYPMDnoR"
      },
      "execution_count": null,
      "outputs": []
    },
    {
      "cell_type": "code",
      "source": [
        "evaluate_dataset(train_scaled2, test_scaled2, 'SCALED 2')"
      ],
      "metadata": {
        "execution": {
          "iopub.status.busy": "2024-10-09T11:21:33.524116Z",
          "iopub.execute_input": "2024-10-09T11:21:33.524638Z",
          "iopub.status.idle": "2024-10-09T11:21:58.49175Z",
          "shell.execute_reply.started": "2024-10-09T11:21:33.524576Z",
          "shell.execute_reply": "2024-10-09T11:21:58.490592Z"
        },
        "trusted": true,
        "id": "I7UkM3rMDnoR"
      },
      "execution_count": null,
      "outputs": []
    },
    {
      "cell_type": "markdown",
      "source": [
        "# &#128201; Postprocessing EDA"
      ],
      "metadata": {
        "id": "2R5mllktDnoR"
      }
    },
    {
      "cell_type": "markdown",
      "source": [
        "<div style=\"display: block; padding: 3px 0; background-color: #ccffcc; color: black; font-size: 12px; font-weight: bold; border-radius: 12px; text-align: center; width: 100%; box-shadow: inset 4px 4px 8px rgba(255, 255, 255, 0.5), inset -4px -4px 8px rgba(0, 0, 0, 0.3); width:40%; margin:auto\">\n",
        "    <h2>PCA</h2>\n",
        "</div>"
      ],
      "metadata": {
        "id": "UAYcmGKGDnoS"
      }
    },
    {
      "cell_type": "code",
      "source": [
        "if EDA:\n",
        "    train_pca, test_pca = make_pca(train_encoded, test_encoded)\n",
        "    train_pca[TARGET] = train_encoded[TARGET].astype('string')"
      ],
      "metadata": {
        "execution": {
          "iopub.status.busy": "2024-10-09T11:21:58.493409Z",
          "iopub.execute_input": "2024-10-09T11:21:58.493904Z",
          "iopub.status.idle": "2024-10-09T11:21:59.354853Z",
          "shell.execute_reply.started": "2024-10-09T11:21:58.49385Z",
          "shell.execute_reply": "2024-10-09T11:21:59.353673Z"
        },
        "trusted": true,
        "id": "Htvq6cUmDnoS"
      },
      "execution_count": null,
      "outputs": []
    },
    {
      "cell_type": "code",
      "source": [
        "if EDA:\n",
        "    fig = px.scatter(train_pca, x='PC1', y='PC2', color=TARGET, height=800, color_discrete_map={'0':'green', '1':'red'})\n",
        "    fig.update_traces(marker=dict(size=6))\n",
        "    display(fig)"
      ],
      "metadata": {
        "_kg_hide-input": true,
        "execution": {
          "iopub.status.busy": "2024-10-09T11:21:59.356567Z",
          "iopub.execute_input": "2024-10-09T11:21:59.357083Z",
          "iopub.status.idle": "2024-10-09T11:21:59.823929Z",
          "shell.execute_reply.started": "2024-10-09T11:21:59.35702Z",
          "shell.execute_reply": "2024-10-09T11:21:59.822129Z"
        },
        "trusted": true,
        "id": "VVmMrpfvDnoS"
      },
      "execution_count": null,
      "outputs": []
    },
    {
      "cell_type": "code",
      "source": [
        "if EDA:\n",
        "    fig = px.scatter_3d(train_pca, x='PC1', y='PC2', z='PC3', color=TARGET, height=800, color_discrete_map={'0':'green', '1':'red'})\n",
        "    fig.update_traces(marker=dict(size=3))\n",
        "    display(fig)"
      ],
      "metadata": {
        "_kg_hide-input": true,
        "execution": {
          "iopub.status.busy": "2024-10-09T11:21:59.826036Z",
          "iopub.execute_input": "2024-10-09T11:21:59.827079Z",
          "iopub.status.idle": "2024-10-09T11:22:00.709454Z",
          "shell.execute_reply.started": "2024-10-09T11:21:59.827009Z",
          "shell.execute_reply": "2024-10-09T11:22:00.707511Z"
        },
        "trusted": true,
        "id": "mxokFHfODnoS"
      },
      "execution_count": null,
      "outputs": []
    },
    {
      "cell_type": "markdown",
      "source": [
        "Classes are not separated"
      ],
      "metadata": {
        "id": "lKxMBmGgDnoS"
      }
    },
    {
      "cell_type": "markdown",
      "source": [
        "<div style=\"display: block; padding: 3px 0; background-color: #ccffcc; color: black; font-size: 12px; font-weight: bold; border-radius: 12px; text-align: center; width: 100%; box-shadow: inset 4px 4px 8px rgba(255, 255, 255, 0.5), inset -4px -4px 8px rgba(0, 0, 0, 0.3); width:40%; margin:auto\">\n",
        "    <h2>Mutual info</h2>\n",
        "</div>"
      ],
      "metadata": {
        "id": "BYe2iO4BDnoS"
      }
    },
    {
      "cell_type": "code",
      "source": [
        "from sklearn.feature_selection import *\n",
        "import eli5\n",
        "from eli5.sklearn import PermutationImportance\n",
        "import shap\n",
        "\n",
        "def mutual_info(train_df, plot=True):\n",
        "    train = train_df.copy()\n",
        "    X_train = train.drop([TARGET], axis=1) # [features]\n",
        "    y_train = train[TARGET]\n",
        "\n",
        "    if PROBLEM == 'regression':\n",
        "        mi_scores = mutual_info_regression(X_train, y_train, random_state=42)\n",
        "    else:\n",
        "        mi_scores = mutual_info_classif(X_train, y_train, random_state=42)\n",
        "\n",
        "    mi_scores = pd.Series(mi_scores, name=\"MI_score\", index=X_train.columns)\n",
        "    mi_scores = mi_scores.sort_values(ascending=False)\n",
        "    df_mi_scores = pd.DataFrame(mi_scores).reset_index().rename(columns={'index':'feature'})\n",
        "    display(df_mi_scores.style.background_gradient(subset=['MI_score'], cmap='Reds'))\n",
        "    plt.figure(figsize=(24, 16))\n",
        "    d = sns.barplot(y=df_mi_scores['feature'], x=df_mi_scores['MI_score'])\n",
        "    return mi_scores"
      ],
      "metadata": {
        "_kg_hide-input": true,
        "execution": {
          "iopub.status.busy": "2024-10-09T11:22:00.711564Z",
          "iopub.execute_input": "2024-10-09T11:22:00.711986Z",
          "iopub.status.idle": "2024-10-09T11:22:00.723281Z",
          "shell.execute_reply.started": "2024-10-09T11:22:00.711944Z",
          "shell.execute_reply": "2024-10-09T11:22:00.722096Z"
        },
        "trusted": true,
        "id": "cT4u3ONsDnoT"
      },
      "execution_count": null,
      "outputs": []
    },
    {
      "cell_type": "code",
      "source": [
        "if EDA:\n",
        "    _ = mutual_info(train_encoded)"
      ],
      "metadata": {
        "_kg_hide-input": true,
        "execution": {
          "iopub.status.busy": "2024-10-09T11:22:00.724693Z",
          "iopub.execute_input": "2024-10-09T11:22:00.725061Z",
          "iopub.status.idle": "2024-10-09T11:22:07.921676Z",
          "shell.execute_reply.started": "2024-10-09T11:22:00.725022Z",
          "shell.execute_reply": "2024-10-09T11:22:07.920514Z"
        },
        "trusted": true,
        "id": "oI_67_8nDnoT"
      },
      "execution_count": null,
      "outputs": []
    },
    {
      "cell_type": "markdown",
      "source": [
        "<div style=\"display: block; padding: 3px 0; background-color: #ccffcc; color: black; font-size: 12px; font-weight: bold; border-radius: 12px; text-align: center; width: 100%; box-shadow: inset 4px 4px 8px rgba(255, 255, 255, 0.5), inset -4px -4px 8px rgba(0, 0, 0, 0.3); width:40%; margin:auto\">\n",
        "    <h2>Permutation importances</h2>\n",
        "</div>"
      ],
      "metadata": {
        "id": "vSHnChu7DnoT"
      }
    },
    {
      "cell_type": "code",
      "source": [
        "def permutation_importances(train_df, model=BASE_MODEL, plot=True):\n",
        "    train = train_df.copy()\n",
        "    X_train = train.drop([TARGET], axis=1) # [features]\n",
        "    y_train = train[TARGET]\n",
        "\n",
        "    perm_train, perm_test, perm_y, perm_valid_y = train_test_split(X_train, y_train)\n",
        "    perm_model = model.fit(perm_train, perm_y)\n",
        "    perm = PermutationImportance(perm_model, random_state=1).fit(perm_test, perm_valid_y)\n",
        "    if plot:\n",
        "        display(eli5.show_weights(perm, feature_names = perm_test.columns.tolist(), top=None))\n",
        "    return perm"
      ],
      "metadata": {
        "_kg_hide-input": true,
        "execution": {
          "iopub.status.busy": "2024-10-09T11:22:07.923189Z",
          "iopub.execute_input": "2024-10-09T11:22:07.9236Z",
          "iopub.status.idle": "2024-10-09T11:22:07.934168Z",
          "shell.execute_reply.started": "2024-10-09T11:22:07.923558Z",
          "shell.execute_reply": "2024-10-09T11:22:07.931957Z"
        },
        "trusted": true,
        "id": "04PmMBKjDnoT"
      },
      "execution_count": null,
      "outputs": []
    },
    {
      "cell_type": "code",
      "source": [
        "if EDA:\n",
        "    if PROBLEM == 'regression':\n",
        "        model = XGBRegressor(enable_categorical=True)\n",
        "        _ = permutation_importances(train_encoded, model=model)\n",
        "    elif PROBLEM == 'classification':\n",
        "        model = XGBClassifier(enable_categorical=True)\n",
        "        _ = permutation_importances(train_encoded, model=model)\n",
        "    else:\n",
        "        model = XGBClassifier(enable_categorical=True)\n",
        "        target_encoder = LabelEncoder()\n",
        "        train_tmp = train_encoded.copy()\n",
        "        train_tmp[TARGET] = target_encoder.fit_transform(train_tmp[TARGET])\n",
        "        _ = permutation_importances(train_tmp, model=model)"
      ],
      "metadata": {
        "_kg_hide-input": true,
        "execution": {
          "iopub.status.busy": "2024-10-09T11:22:07.935932Z",
          "iopub.execute_input": "2024-10-09T11:22:07.937141Z",
          "iopub.status.idle": "2024-10-09T11:22:17.186899Z",
          "shell.execute_reply.started": "2024-10-09T11:22:07.937082Z",
          "shell.execute_reply": "2024-10-09T11:22:17.185421Z"
        },
        "trusted": true,
        "id": "H538eDjwDnoT"
      },
      "execution_count": null,
      "outputs": []
    },
    {
      "cell_type": "markdown",
      "source": [
        "<div style=\"display: block; padding: 3px 0; background-color: #ccffcc; color: black; font-size: 12px; font-weight: bold; border-radius: 12px; text-align: center; width: 100%; box-shadow: inset 4px 4px 8px rgba(255, 255, 255, 0.5), inset -4px -4px 8px rgba(0, 0, 0, 0.3); width:40%; margin:auto\">\n",
        "    <h2>Partial dependences</h2>\n",
        "</div>"
      ],
      "metadata": {
        "id": "Dc_5xYUWDnoT"
      }
    },
    {
      "cell_type": "code",
      "source": [
        "from sklearn.inspection import PartialDependenceDisplay\n",
        "\n",
        "def partial_dependences(train, test, model_):\n",
        "    features, _, nums = fcn(test)\n",
        "\n",
        "    X, y = train[features], train[TARGET]\n",
        "\n",
        "    train_X, val_X, train_y, val_y = train_test_split(X, y, random_state=1)\n",
        "    model = clone(model_).fit(train_X, train_y)\n",
        "\n",
        "    columns = nums\n",
        "    n_cols = 3\n",
        "    n_rows = math.ceil(len(columns)/n_cols)\n",
        "    fig, ax = plt.subplots(n_rows, n_cols, figsize=(16, n_rows*5))\n",
        "    ax = ax.flatten()\n",
        "\n",
        "    for i, column in enumerate(columns):\n",
        "        PartialDependenceDisplay.from_estimator(model, val_X, [column], ax=ax[i])\n",
        "        # titles\n",
        "        ax[i].set_title(f'{TARGET} vs {column}');\n",
        "        ax[i].set_xlabel(None)\n",
        "    plt.tight_layout()\n",
        "\n",
        "if EDA:\n",
        "    if PROBLEM == 'regression':\n",
        "        model = XGBRegressor(enable_categorical=True)\n",
        "        partial_dependences(train_encoded, test_encoded, model)\n",
        "    elif PROBLEM == 'classification':\n",
        "        model = XGBClassifier(enable_categorical=True)\n",
        "        partial_dependences(train_encoded, test_encoded, model)\n",
        "    else:\n",
        "        model = XGBClassifier(enable_categorical=True)\n",
        "        target_encoder = LabelEncoder()\n",
        "        train_tmp = train_encoded.copy()\n",
        "        train_tmp[TARGET] = target_encoder.fit_transform(train_tmp[TARGET])\n",
        "        partial_dependences(train_tmp, test_encoded, model)"
      ],
      "metadata": {
        "_kg_hide-input": true,
        "execution": {
          "iopub.status.busy": "2024-10-09T11:22:17.188311Z",
          "iopub.execute_input": "2024-10-09T11:22:17.188666Z",
          "iopub.status.idle": "2024-10-09T11:23:41.779889Z",
          "shell.execute_reply.started": "2024-10-09T11:22:17.188632Z",
          "shell.execute_reply": "2024-10-09T11:23:41.778577Z"
        },
        "trusted": true,
        "id": "bIyCZiV5DnoT"
      },
      "execution_count": null,
      "outputs": []
    },
    {
      "cell_type": "markdown",
      "source": [
        "<div style=\"display: block; padding: 3px 0; background-color: #ccffcc; color: black; font-size: 12px; font-weight: bold; border-radius: 12px; text-align: center; width: 100%; box-shadow: inset 4px 4px 8px rgba(255, 255, 255, 0.5), inset -4px -4px 8px rgba(0, 0, 0, 0.3); width:40%; margin:auto\">\n",
        "    <h2>Select dataset</h2>\n",
        "</div>"
      ],
      "metadata": {
        "id": "z7IEbR_5DnoU"
      }
    },
    {
      "cell_type": "code",
      "source": [
        "if EVALUATE_DATASETS:\n",
        "    display_scores(datasets_scores, x='Dataset')"
      ],
      "metadata": {
        "_kg_hide-input": true,
        "execution": {
          "iopub.status.busy": "2024-10-09T11:23:41.781665Z",
          "iopub.execute_input": "2024-10-09T11:23:41.782189Z",
          "iopub.status.idle": "2024-10-09T11:23:42.267918Z",
          "shell.execute_reply.started": "2024-10-09T11:23:41.782137Z",
          "shell.execute_reply": "2024-10-09T11:23:42.266717Z"
        },
        "trusted": true,
        "id": "z1j2LrOiDnoU"
      },
      "execution_count": null,
      "outputs": []
    },
    {
      "cell_type": "code",
      "source": [
        "train_final, test_final, dataset = train_scaled2.copy(), test_scaled2.copy(), 'SCALED2'"
      ],
      "metadata": {
        "execution": {
          "iopub.status.busy": "2024-10-09T11:23:42.269201Z",
          "iopub.execute_input": "2024-10-09T11:23:42.269588Z",
          "iopub.status.idle": "2024-10-09T11:23:42.285129Z",
          "shell.execute_reply.started": "2024-10-09T11:23:42.26955Z",
          "shell.execute_reply": "2024-10-09T11:23:42.283956Z"
        },
        "trusted": true,
        "id": "9SnlwTsFDnoU"
      },
      "execution_count": null,
      "outputs": []
    },
    {
      "cell_type": "markdown",
      "source": [
        "<div style=\"display: block; padding: 3px 0; background-color: #ccffcc; color: black; font-size: 12px; font-weight: bold; border-radius: 12px; text-align: center; width: 100%; box-shadow: inset 4px 4px 8px rgba(255, 255, 255, 0.5), inset -4px -4px 8px rgba(0, 0, 0, 0.3); width:40%; margin:auto\">\n",
        "    <h2>Some basic models</h2>\n",
        "</div>"
      ],
      "metadata": {
        "id": "pnafBn8ADnoU"
      }
    },
    {
      "cell_type": "code",
      "source": [
        "from sklearn.multiclass import OneVsRestClassifier\n",
        "\n",
        "BASE, BASE_TEST = pd.DataFrame(), pd.DataFrame()\n",
        "BASE[TARGET] = train_final[TARGET]\n",
        "\n",
        "base_scores = {}\n",
        "\n",
        "regressors = []\n",
        "# regressors.append(('MLP', MLPRegressor()))\n",
        "regressors.append(('Linear', LinearRegression()))\n",
        "regressors.append(('Ridge', Ridge()))\n",
        "regressors.append(('LARS', LarsCV()))\n",
        "regressors.append(('Bayes', BayesianRidge()))\n",
        "regressors.append(('AdaBoost', AdaBoostRegressor()))\n",
        "regressors.append(('Bagging', BaggingRegressor()))\n",
        "regressors.append(('GBoost', GradientBoostingRegressor()))\n",
        "\n",
        "if EVALUATE_MODELS  or EDA:\n",
        "    if PROBLEM == 'regression':\n",
        "        for regressor in regressors:\n",
        "            MODEL, NAME = regressor[1], regressor[0]\n",
        "            print('\\n---------- EVALUATING',NAME,'----------\\n')\n",
        "            sc, _ = CV(RegressorWrapper(MODEL, name=NAME), train_final, test_final, dataset=dataset, clear=False)\n",
        "            base_scores[f'base {NAME}'] = sc\n",
        "    else:\n",
        "        for regressor in regressors:\n",
        "            MODEL, NAME = regressor[1], regressor[0]\n",
        "            print('\\n---------- EVALUATING',NAME,'----------\\n')\n",
        "            try:\n",
        "                sc, BASE[NAME], BASE_TEST[NAME] = CV(RegressorWrapper(MODEL, name=NAME), train_final, test_final, dataset=dataset, clear=False)\n",
        "                base_scores[f'base {NAME}'] = sc\n",
        "            except Exception as e:\n",
        "                print(repr(e))\n",
        "\n",
        "    display_scores(base_scores)"
      ],
      "metadata": {
        "execution": {
          "iopub.status.busy": "2024-10-09T11:23:42.287009Z",
          "iopub.execute_input": "2024-10-09T11:23:42.28752Z",
          "iopub.status.idle": "2024-10-09T11:25:19.028236Z",
          "shell.execute_reply.started": "2024-10-09T11:23:42.287459Z",
          "shell.execute_reply": "2024-10-09T11:25:19.026994Z"
        },
        "trusted": true,
        "id": "ZlsHxHkQDnoU"
      },
      "execution_count": null,
      "outputs": []
    },
    {
      "cell_type": "markdown",
      "source": [
        "# &#128204; Cross Validation"
      ],
      "metadata": {
        "id": "pcDx2qjHDnoU"
      }
    },
    {
      "cell_type": "markdown",
      "source": [
        "<div style=\"display: block; padding: 3px 0; background-color: #ccffcc; color: black; font-size: 12px; font-weight: bold; border-radius: 12px; text-align: center; width: 100%; box-shadow: inset 4px 4px 8px rgba(255, 255, 255, 0.5), inset -4px -4px 8px rgba(0, 0, 0, 0.3); width:40%; margin:auto\">\n",
        "    <h2>LGBM, CATBoost, XGB</h2>\n",
        "</div>"
      ],
      "metadata": {
        "id": "I00P0EouDnoU"
      }
    },
    {
      "cell_type": "code",
      "source": [
        "train_fin, test_fin = train_fe.copy(), test_fe.copy()\n",
        "\n",
        "scores = {}\n",
        "TRAIN, TEST = pd.DataFrame(), pd.DataFrame()\n",
        "TRAIN[TARGET] = train_final[TARGET]\n",
        "\n",
        "if LOAD_SAVED:\n",
        "    TRAIN = pd.read_csv('/kaggle/input/eda-and-lgb-cat-xgb/TRAIN.csv')\n",
        "    TEST = pd.read_csv('/kaggle/input/eda-and-lgb-cat-xgb/TEST.csv')\n",
        "    if 'averager' in TEST.columns.tolist():\n",
        "        TEST.drop('averager', axis=1, inplace=True)\n",
        "    SAVED = TEST.columns.tolist()\n",
        "    y = TRAIN[TARGET]\n",
        "    for cv in SAVED:\n",
        "        prediction = np.rint(TRAIN[cv])\n",
        "        model_accuracy = round(accuracy_score(y, prediction), 4)\n",
        "        model_precision, model_recall, model_f1, _ = precision_recall_fscore_support(y, prediction, average=\"weighted\")\n",
        "        model_precision, model_recall, model_f1 = round(model_precision, 4), round(model_recall, 4), round(model_f1, 4)\n",
        "        model_matthews_corrcoef = round(matthews_corrcoef(y, prediction), 4)\n",
        "\n",
        "        scores[f'Saved {cv}'] = {\n",
        "            'Model': cv,\n",
        "            'Dataset': 'final',\n",
        "            f'Mean OOF {SCORE_NAME}': None,\n",
        "            f'{SCORE_NAME}': SCORE(y, TRAIN[cv]),\n",
        "            'Accuracy Score': model_accuracy,\n",
        "            'Precision Score': model_precision,\n",
        "            'Recall Score': model_recall,\n",
        "            'f1 Score': model_f1,\n",
        "            'Matthews Corr Coef': model_matthews_corrcoef,\n",
        "            'time': 0,\n",
        "        }\n",
        "    print('\\nSAVED RESULTS:\\n')\n",
        "    display_scores(scores)"
      ],
      "metadata": {
        "execution": {
          "iopub.status.busy": "2024-10-09T11:32:25.38119Z",
          "iopub.execute_input": "2024-10-09T11:32:25.381869Z",
          "iopub.status.idle": "2024-10-09T11:32:27.466701Z",
          "shell.execute_reply.started": "2024-10-09T11:32:25.381822Z",
          "shell.execute_reply": "2024-10-09T11:32:27.465539Z"
        },
        "trusted": true,
        "id": "wo1G6cqyDnoV"
      },
      "execution_count": null,
      "outputs": []
    },
    {
      "cell_type": "code",
      "source": [
        "def CV_results(name):\n",
        "    oof_train_proba, oof_true= TRAIN[name], TRAIN[TARGET]\n",
        "\n",
        "    prediction = np.rint(oof_train_proba).astype(int)\n",
        "    score = SCORE(oof_true, oof_train_proba)\n",
        "    confusion = confusion_matrix(oof_true, prediction)\n",
        "\n",
        "    print(colored(f'\\n{name} performance:\\n', 'red'))\n",
        "\n",
        "    fig, axs = plt.subplots(1, 3, figsize=(36, 5))\n",
        "\n",
        "    labels = ['class 0', 'Class 1']\n",
        "    sns.heatmap(confusion, annot=True, annot_kws={\"fontsize\":24}, fmt=\",d\", xticklabels=labels, yticklabels=labels, cmap='plasma', cbar=False, ax=axs[0])\n",
        "    axs[0].set_title(f'Prediction, {SCORE_NAME} {score}')\n",
        "    axs[0].set_ylabel(\"Actual Class\")\n",
        "    axs[0].set_xlabel(\"Predicted Class\")\n",
        "\n",
        "    RocCurveDisplay.from_predictions(oof_true, oof_train_proba, ax=axs[1])\n",
        "    axs[1].set_title('ROC')\n",
        "\n",
        "    CalibrationDisplay.from_predictions(oof_true, np.array(oof_train_proba).clip(0, 1), n_bins=30, strategy='quantile', ax=axs[2])\n",
        "    axs[2].set_title('Calibration')\n",
        "\n",
        "    plt.tight_layout()\n",
        "    plt.show()\n",
        "\n",
        "    scorer = round(score, 4)\n",
        "    print(colored(f'\\n---------- {SCORE_NAME}: {scorer} ----------:\\n', 'red'))\n",
        "\n",
        "    model_accuracy = round(accuracy_score(oof_true, prediction), 4)\n",
        "    model_precision, model_recall, model_f1, _ = precision_recall_fscore_support(oof_true, prediction,\n",
        "                                                                                 average=\"weighted\")\n",
        "    model_precision, model_recall, model_f1 = round(model_precision, 4), round(model_recall, 4), round(model_f1, 4)\n",
        "    model_matthews_corrcoef = round(matthews_corrcoef(oof_true, prediction), 4)\n",
        "\n",
        "    performance_scores = {\n",
        "        'Model': name,\n",
        "        f'{SCORE_NAME}': scorer,\n",
        "        'Accuracy Score': model_accuracy,\n",
        "        'Precision Score': model_precision,\n",
        "        'Recall Score': model_recall,\n",
        "        'f1 Score': model_f1,\n",
        "        'Matthews Corr Coef': model_matthews_corrcoef,\n",
        "        'time': 0,\n",
        "    }\n",
        "\n",
        "    display(pd.DataFrame([performance_scores]).set_index('Model'))"
      ],
      "metadata": {
        "_kg_hide-input": false,
        "scrolled": true,
        "execution": {
          "iopub.status.busy": "2024-10-09T11:32:27.468674Z",
          "iopub.execute_input": "2024-10-09T11:32:27.469042Z",
          "iopub.status.idle": "2024-10-09T11:32:27.48222Z",
          "shell.execute_reply.started": "2024-10-09T11:32:27.469002Z",
          "shell.execute_reply": "2024-10-09T11:32:27.481059Z"
        },
        "trusted": true,
        "id": "dH4o-A87DnoV"
      },
      "execution_count": null,
      "outputs": []
    },
    {
      "cell_type": "code",
      "source": [
        "if DEBUG:\n",
        "\n",
        "    FOLDS, REPEATS = 3, 1\n",
        "\n",
        "    xgb_params = [\n",
        "        {\n",
        "            'objective': 'binary:logistic',\n",
        "            'enable_categorical'    : True,\n",
        "            'random_state'          : 42,\n",
        "        },\n",
        "    ]\n",
        "\n",
        "    lgb_params = [{\n",
        "            'objective': 'binary',\n",
        "            'metric':    'auc',\n",
        "            'random_state'          : 42,\n",
        "        },\n",
        "    ]\n",
        "\n",
        "    cat_params = [\n",
        "        {\n",
        "            'task_type'           : \"CPU\",\n",
        "            'loss_function'       : 'Logloss',\n",
        "            'eval_metric'         : \"AUC\",\n",
        "            'random_state': 42,\n",
        "        },\n",
        "    ]\n",
        "else:\n",
        "    FOLDS, REPEATS = 10, 1\n",
        "\n",
        "    xgb_params = [\n",
        "        {\n",
        "            'objective': 'binary:logistic',\n",
        "            'learning_rate'         : 0.03,\n",
        "            'n_estimators'          : 5000,\n",
        "            'max_depth'             : 7,\n",
        "            'colsample_bytree'      : 0.75,\n",
        "            'colsample_bynode'      : 0.85,\n",
        "            'colsample_bylevel'     : 0.45,\n",
        "            'reg_alpha'             : 0.001,\n",
        "            'reg_lambda'            : 0.25,\n",
        "            'enable_categorical'    : True,\n",
        "            'random_state'          : 42,\n",
        "        },\n",
        "        {\n",
        "        'objective': 'binary:logistic',\n",
        "        'eval_metric': 'auc',\n",
        "        'n_estimators' : 5000,\n",
        "        'max_depth': 7,\n",
        "        'eta': 0.08,\n",
        "        'reg_lambda': 38.5,\n",
        "        'subsample': 0.88,\n",
        "        'colsample_bytree': 0.65,\n",
        "        'enable_categorical': True,\n",
        "        'min_child_weight': 5,\n",
        "        },\n",
        "    ]\n",
        "\n",
        "    lgb_params = [{\n",
        "            'objective': 'binary',\n",
        "            'metric':    'auc',\n",
        "            'learning_rate'       : 0.0325,\n",
        "            'n_estimators'        : 5_000,\n",
        "            'max_depth'           : 7,\n",
        "            'num_leaves'          : 25,\n",
        "            'min_data_in_leaf'    : 20,\n",
        "            'feature_fraction'    : 0.70,\n",
        "            'bagging_fraction'    : 0.88,\n",
        "            'bagging_freq'        : 6,\n",
        "            'lambda_l1'           : 0.001,\n",
        "            'lambda_l2'           : 0.1,\n",
        "        },\n",
        "        {\n",
        "            'objective': 'binary',\n",
        "            'metric':    'auc',\n",
        "            'learning_rate'       : 0.035,\n",
        "            'data_sample_strategy': 'goss',\n",
        "            'n_estimators'        : 5_000,\n",
        "            'max_depth'           : 7,\n",
        "            'num_leaves'          : 30,\n",
        "            'min_data_in_leaf'    : 30,\n",
        "            'feature_fraction'    : 0.60,\n",
        "            'colsample_bytree'    : 0.65,\n",
        "            'lambda_l1'           : 0.001,\n",
        "            'lambda_l2'           : 1.25,\n",
        "        },\n",
        "        {\n",
        "            'objective': 'binary',\n",
        "            'metric': 'auc',\n",
        "            'max_depth': -1,\n",
        "            'verbosity': -1,\n",
        "            'n_estimators': 1500,\n",
        "            'max_bin': 1024,\n",
        "            'boosting_type': 'gbdt',\n",
        "            'colsample_bytree': 0.57,\n",
        "            'eta': 0.055,\n",
        "            'reg_lambda': 10.8,\n",
        "            'min_child_samples': 70,\n",
        "            'early_stopping_rounds': 150,\n",
        "        },\n",
        "    ]\n",
        "\n",
        "    cat_params = [\n",
        "        {\n",
        "            'task_type'           : \"CPU\",\n",
        "            'loss_function'       : 'Logloss',\n",
        "            'eval_metric'         : \"AUC\",\n",
        "            'bagging_temperature' : 0.25,\n",
        "            'colsample_bylevel'   : 0.40,\n",
        "            'iterations'          : 5_000,\n",
        "            'learning_rate'       : 0.045,\n",
        "            'max_depth'           : 7,\n",
        "            'l2_leaf_reg'         : 0.80,\n",
        "            'min_data_in_leaf'    : 30,\n",
        "            'random_strength'     : 0.25,\n",
        "            'random_state': 42,\n",
        "        },\n",
        "        {\n",
        "            'iterations': 1500,\n",
        "            'depth': 6,\n",
        "            'eta': 0.3,\n",
        "            'reg_lambda': 41.0,\n",
        "            'loss_function': 'Logloss',\n",
        "            'eval_metric': 'AUC',\n",
        "            'random_state': 42,\n",
        "            'min_data_in_leaf': 51,\n",
        "            'early_stopping_rounds': 150,\n",
        "            'verbose':200,\n",
        "        },\n",
        "        {\n",
        "            'iterations': 3000,\n",
        "            'depth': 7,\n",
        "            'eta': 0.3,\n",
        "            'reg_lambda': 40.0,\n",
        "            'loss_function': 'Logloss',\n",
        "            'eval_metric': 'AUC',\n",
        "            'random_state': 42,\n",
        "            'min_data_in_leaf': 51,\n",
        "            'early_stopping_rounds': 300,\n",
        "            'verbose':200,\n",
        "        },\n",
        "        {\n",
        "            'task_type'           : \"CPU\",\n",
        "            'loss_function'       : 'Logloss',\n",
        "            'eval_metric'         : \"AUC\",\n",
        "            'bagging_temperature' : 0.25,\n",
        "            'colsample_bylevel'   : 0.40,\n",
        "            'iterations'          : 7_000,\n",
        "            'learning_rate'       : 0.035,\n",
        "            'max_depth'           : 8,\n",
        "            'l2_leaf_reg'         : 0.80,\n",
        "            'min_data_in_leaf'    : 30,\n",
        "            'random_strength'     : 0.25,\n",
        "            'early_stopping_rounds': 200,\n",
        "            'random_state': 42,\n",
        "        },\n",
        "    ]"
      ],
      "metadata": {
        "_kg_hide-input": false,
        "execution": {
          "iopub.status.busy": "2024-10-09T11:32:27.483886Z",
          "iopub.execute_input": "2024-10-09T11:32:27.484291Z",
          "iopub.status.idle": "2024-10-09T11:32:27.504726Z",
          "shell.execute_reply.started": "2024-10-09T11:32:27.484225Z",
          "shell.execute_reply": "2024-10-09T11:32:27.503585Z"
        },
        "trusted": true,
        "id": "JXtzmHuEDnoV"
      },
      "execution_count": null,
      "outputs": []
    },
    {
      "cell_type": "code",
      "source": [
        "FEATURES, CATS, NUMS = fcn(test_fin)"
      ],
      "metadata": {
        "_kg_hide-input": true,
        "execution": {
          "iopub.status.busy": "2024-10-09T11:32:27.508057Z",
          "iopub.execute_input": "2024-10-09T11:32:27.508944Z",
          "iopub.status.idle": "2024-10-09T11:32:27.526707Z",
          "shell.execute_reply.started": "2024-10-09T11:32:27.50889Z",
          "shell.execute_reply": "2024-10-09T11:32:27.525563Z"
        },
        "trusted": true,
        "id": "ZDVRHN6QDnoW"
      },
      "execution_count": null,
      "outputs": []
    },
    {
      "cell_type": "code",
      "source": [
        "train_lx, test_lx = train_fin.copy(), test_fin.copy()\n",
        "oe = OrdinalEncoder(handle_unknown='use_encoded_value', unknown_value=-1)\n",
        "\n",
        "X_oe = pd.DataFrame(oe.fit_transform(train_lx[CATS]), columns = CATS).fillna(0).astype(int)\n",
        "\n",
        "test_oe = pd.DataFrame(oe.transform(test_lx[CATS]), columns = CATS).fillna(0).astype(int)\n",
        "\n",
        "train_lxe = pd.concat([X_oe, train_lx[NUMS]], axis= 1)\n",
        "test_lxe = pd.concat([test_oe, test_lx[NUMS]], axis= 1)\n",
        "\n",
        "train_lxe[TARGET] = train_lx[TARGET]\n",
        "\n",
        "# df_info(train_lxe, 'TRAIN LXE')\n",
        "# df_info(test_lxe, 'TEST LXE')"
      ],
      "metadata": {
        "execution": {
          "iopub.status.busy": "2024-10-09T11:32:27.527982Z",
          "iopub.execute_input": "2024-10-09T11:32:27.528418Z",
          "iopub.status.idle": "2024-10-09T11:32:27.687601Z",
          "shell.execute_reply.started": "2024-10-09T11:32:27.528368Z",
          "shell.execute_reply": "2024-10-09T11:32:27.686574Z"
        },
        "trusted": true,
        "id": "vHDtRGXfDnoW"
      },
      "execution_count": null,
      "outputs": []
    },
    {
      "cell_type": "code",
      "source": [
        "train_c, test_c = train_fin.copy(), test_fin.copy()\n",
        "\n",
        "for df in [train_c, test_c]:\n",
        "    df[FEATURES] = df[FEATURES].fillna(0).astype('string')\n",
        "\n",
        "# df_info(train_c, 'TRAIN C')\n",
        "# df_info(test_c, 'TEST C')"
      ],
      "metadata": {
        "execution": {
          "iopub.status.busy": "2024-10-09T11:32:27.688958Z",
          "iopub.execute_input": "2024-10-09T11:32:27.689354Z",
          "iopub.status.idle": "2024-10-09T11:32:28.478571Z",
          "shell.execute_reply.started": "2024-10-09T11:32:27.689313Z",
          "shell.execute_reply": "2024-10-09T11:32:28.477399Z"
        },
        "trusted": true,
        "id": "HGVQ4ay6DnoW"
      },
      "execution_count": null,
      "outputs": []
    },
    {
      "cell_type": "markdown",
      "source": [
        "<div style=\"display: block; padding: 3px 0; background-color: #ccccff; color: black; font-size: 12px; font-weight: bold; border-radius: 12px; text-align: center; width: 100%; box-shadow: inset 4px 4px 8px rgba(255, 255, 255, 0.5), inset -4px -4px 8px rgba(0, 0, 0, 0.3); width:30%; margin:auto\">LGBM</div>"
      ],
      "metadata": {
        "id": "OrbDDREjDnoW"
      }
    },
    {
      "cell_type": "code",
      "source": [
        "import lightgbm as lgb\n",
        "import xgboost as xgb\n",
        "\n",
        "class LGBEstimator(Classifier):\n",
        "\n",
        "    def fit(self, X, y, X_val, y_val):\n",
        "        dtrain = lgb.Dataset(X, label=y)\n",
        "        dvalid = lgb.Dataset(X_val, label=y_val)\n",
        "        log_evaluation = lgb.log_evaluation(period=200)\n",
        "        self.model_ = lgb.train(\n",
        "            self.params_,\n",
        "            dtrain,\n",
        "            num_boost_round=1500,\n",
        "            valid_sets=[dtrain, dvalid],\n",
        "            valid_names=['train', 'valid'],\n",
        "            #feval=rmse_metric_lgb,\n",
        "            categorical_feature=CATS,\n",
        "            callbacks = [log_evaluation]\n",
        "        )\n",
        "\n",
        "    def fit_predict_proba(self, X, y, X_val, y_val):\n",
        "        self.fit(X, y, X_val, y_val)\n",
        "        return self.predict_proba(X_val)\n",
        "\n",
        "    def predict_proba(self, X):\n",
        "        return self.model_.predict(X, num_iteration=self.model_.best_iteration)"
      ],
      "metadata": {
        "_kg_hide-input": false,
        "scrolled": true,
        "execution": {
          "iopub.status.busy": "2024-10-09T11:32:28.479997Z",
          "iopub.execute_input": "2024-10-09T11:32:28.480415Z",
          "iopub.status.idle": "2024-10-09T11:32:28.495115Z",
          "shell.execute_reply.started": "2024-10-09T11:32:28.480374Z",
          "shell.execute_reply": "2024-10-09T11:32:28.493677Z"
        },
        "trusted": true,
        "id": "sk6hHdUUDnoX"
      },
      "execution_count": null,
      "outputs": []
    },
    {
      "cell_type": "code",
      "source": [
        "name = 'LGB0'\n",
        "if EVALUATE_MODELS and not name in SAVED:\n",
        "    score, TRAIN[name], TEST[name] = CV(\n",
        "        LGBEstimator(\n",
        "            params=lgb_params[0],\n",
        "            name=name,\n",
        "        ),\n",
        "        train_lxe,\n",
        "        test_lxe,\n",
        "        dataset='LXE',\n",
        "        log=False,\n",
        "        folds=FOLDS,\n",
        "        repeats=REPEATS,\n",
        "        submission=False,\n",
        "    )\n",
        "    scores[name] = score\n",
        "else:\n",
        "    CV_results(name)"
      ],
      "metadata": {
        "_kg_hide-input": false,
        "execution": {
          "iopub.status.busy": "2024-10-09T11:32:28.496811Z",
          "iopub.execute_input": "2024-10-09T11:32:28.497333Z",
          "iopub.status.idle": "2024-10-09T11:32:29.811942Z",
          "shell.execute_reply.started": "2024-10-09T11:32:28.497276Z",
          "shell.execute_reply": "2024-10-09T11:32:29.810573Z"
        },
        "trusted": true,
        "id": "BYCPADTtDnoX"
      },
      "execution_count": null,
      "outputs": []
    },
    {
      "cell_type": "code",
      "source": [
        "name = 'LGB2'\n",
        "if not DEBUG:\n",
        "    if EVALUATE_MODELS and not name in SAVED:\n",
        "        score, TRAIN[name], TEST[name] = CV(\n",
        "            LGBEstimator(\n",
        "                params=lgb_params[2],\n",
        "                name=name,\n",
        "            ),\n",
        "            train_lxe,\n",
        "            test_lxe,\n",
        "            dataset='LXE',\n",
        "            log=False,\n",
        "            folds=FOLDS,\n",
        "            repeats=REPEATS,\n",
        "            submission=True,\n",
        "        )\n",
        "        scores[name] = score\n",
        "    else:\n",
        "        CV_results(name)"
      ],
      "metadata": {
        "_kg_hide-input": false,
        "execution": {
          "iopub.status.busy": "2024-10-09T11:32:29.813318Z",
          "iopub.execute_input": "2024-10-09T11:32:29.813686Z",
          "iopub.status.idle": "2024-10-09T11:32:31.103476Z",
          "shell.execute_reply.started": "2024-10-09T11:32:29.813647Z",
          "shell.execute_reply": "2024-10-09T11:32:31.102241Z"
        },
        "trusted": true,
        "id": "ZrIxXL6WDnoX"
      },
      "execution_count": null,
      "outputs": []
    },
    {
      "cell_type": "markdown",
      "source": [
        "<div style=\"display: block; padding: 3px 0; background-color: #ccccff; color: black; font-size: 12px; font-weight: bold; border-radius: 12px; text-align: center; width: 100%; box-shadow: inset 4px 4px 8px rgba(255, 255, 255, 0.5), inset -4px -4px 8px rgba(0, 0, 0, 0.3); width:30%; margin:auto\">CatBoost</div>"
      ],
      "metadata": {
        "id": "Fp9DSW08DnoX"
      }
    },
    {
      "cell_type": "code",
      "source": [
        "class CATEstimator(Classifier):\n",
        "\n",
        "    def fit(self, X, y, X_val, y_val):\n",
        "        cat_features = X.columns.tolist()\n",
        "        train_pool = Pool(data=X, label=y, cat_features=cat_features)\n",
        "        valid_pool = Pool(data=X_val, label=y_val, cat_features=cat_features)\n",
        "        self.model_ = catboost.CatBoostClassifier(**self.params_)\n",
        "        self.model_.fit(train_pool, eval_set=valid_pool, verbose=200)\n",
        "\n",
        "    def fit_predict_proba(self, X, y, X_val, y_val):\n",
        "        self.fit(X, y, X_val, y_val)\n",
        "        return self.predict_proba(X_val)\n",
        "\n",
        "    def predict_proba(self, X):\n",
        "        best_iter = self.model_.best_iteration_\n",
        "        return self.model_.predict_proba(X, ntree_end=best_iter)[:,-1]"
      ],
      "metadata": {
        "_kg_hide-input": false,
        "scrolled": true,
        "execution": {
          "iopub.status.busy": "2024-10-09T11:32:31.109241Z",
          "iopub.execute_input": "2024-10-09T11:32:31.109703Z",
          "iopub.status.idle": "2024-10-09T11:32:31.120774Z",
          "shell.execute_reply.started": "2024-10-09T11:32:31.10966Z",
          "shell.execute_reply": "2024-10-09T11:32:31.119565Z"
        },
        "trusted": true,
        "id": "DpDF9OUjDnoX"
      },
      "execution_count": null,
      "outputs": []
    },
    {
      "cell_type": "code",
      "source": [
        "name = 'CAT'\n",
        "if EVALUATE_MODELS and not name in SAVED:\n",
        "    score, TRAIN[name], TEST[name] = CV(\n",
        "        CATEstimator(\n",
        "            params=cat_params[0],\n",
        "            name=name,\n",
        "        ),\n",
        "        train_c,\n",
        "        test_c,\n",
        "        dataset='CATBoost',\n",
        "        log=False,\n",
        "        folds=FOLDS,\n",
        "        repeats=REPEATS,\n",
        "        submission=True,\n",
        "    )\n",
        "    scores[name] = score\n",
        "else:\n",
        "    CV_results(name)"
      ],
      "metadata": {
        "_kg_hide-input": true,
        "execution": {
          "iopub.status.busy": "2024-10-09T11:32:31.122375Z",
          "iopub.execute_input": "2024-10-09T11:32:31.122832Z",
          "iopub.status.idle": "2024-10-09T11:32:32.525941Z",
          "shell.execute_reply.started": "2024-10-09T11:32:31.122791Z",
          "shell.execute_reply": "2024-10-09T11:32:32.524637Z"
        },
        "trusted": true,
        "id": "A60sBMdjDnoX"
      },
      "execution_count": null,
      "outputs": []
    },
    {
      "cell_type": "code",
      "source": [
        "name = 'CAT1'\n",
        "if not DEBUG:\n",
        "    if EVALUATE_MODELS and not name in SAVED:\n",
        "        score, TRAIN[name], TEST[name] = CV(\n",
        "            CATEstimator(\n",
        "                params=cat_params[1],\n",
        "                name=name,\n",
        "            ),\n",
        "            train_c,\n",
        "            test_c,\n",
        "            dataset='CATBoost',\n",
        "            log=False,\n",
        "            folds=FOLDS,\n",
        "            repeats=REPEATS,\n",
        "            submission=True,\n",
        "        )\n",
        "        scores[name] = score\n",
        "    else:\n",
        "        CV_results(name)"
      ],
      "metadata": {
        "_kg_hide-input": false,
        "execution": {
          "iopub.status.busy": "2024-10-09T11:32:32.527464Z",
          "iopub.execute_input": "2024-10-09T11:32:32.527891Z",
          "iopub.status.idle": "2024-10-09T11:32:33.879405Z",
          "shell.execute_reply.started": "2024-10-09T11:32:32.527845Z",
          "shell.execute_reply": "2024-10-09T11:32:33.877975Z"
        },
        "trusted": true,
        "id": "iWqnC-loDnoX"
      },
      "execution_count": null,
      "outputs": []
    },
    {
      "cell_type": "code",
      "source": [
        "name = 'CAT2'\n",
        "if not DEBUG:\n",
        "    if EVALUATE_MODELS and not name in SAVED:\n",
        "        score, TRAIN[name], TEST[name] = CV(\n",
        "            CATEstimator(\n",
        "                params=cat_params[2],\n",
        "                name=name,\n",
        "            ),\n",
        "            train_c,\n",
        "            test_c,\n",
        "            dataset='CATBoost',\n",
        "            log=False,\n",
        "            folds=FOLDS,\n",
        "            repeats=REPEATS,\n",
        "            submission=True,\n",
        "        )\n",
        "        scores[name] = score\n",
        "    else:\n",
        "        CV_results(name)"
      ],
      "metadata": {
        "_kg_hide-input": false,
        "execution": {
          "iopub.status.busy": "2024-10-09T11:32:33.880831Z",
          "iopub.execute_input": "2024-10-09T11:32:33.881214Z",
          "iopub.status.idle": "2024-10-09T11:32:35.17089Z",
          "shell.execute_reply.started": "2024-10-09T11:32:33.881175Z",
          "shell.execute_reply": "2024-10-09T11:32:35.169808Z"
        },
        "trusted": true,
        "id": "tgfgB8QcDnoY"
      },
      "execution_count": null,
      "outputs": []
    },
    {
      "cell_type": "markdown",
      "source": [
        "<div style=\"display: block; padding: 3px 0; background-color: #ccccff; color: black; font-size: 12px; font-weight: bold; border-radius: 12px; text-align: center; width: 100%; box-shadow: inset 4px 4px 8px rgba(255, 255, 255, 0.5), inset -4px -4px 8px rgba(0, 0, 0, 0.3); width:30%; margin:auto\">XGB</div>"
      ],
      "metadata": {
        "id": "FV5_hOdeDnoY"
      }
    },
    {
      "cell_type": "code",
      "source": [
        "import lightgbm as lgb\n",
        "import xgboost as xgb\n",
        "\n",
        "class XGBEstimator(Classifier):\n",
        "\n",
        "    def fit(self, X, y, X_val, y_val):\n",
        "        dtrain = xgb.DMatrix(X.to_numpy(), label=y.to_numpy())\n",
        "        dvalid = xgb.DMatrix(X_val.to_numpy(), label=y_val.to_numpy())\n",
        "        eval_set = [(dtrain, 'train'), (dvalid, 'valid')]\n",
        "        self.model_ = xgb.train(\n",
        "            params=self.params_,\n",
        "            dtrain=dtrain,\n",
        "            num_boost_round=1500,\n",
        "            #feval=rmse_metric,\n",
        "            maximize=True,\n",
        "            evals=eval_set,\n",
        "            early_stopping_rounds=150,\n",
        "            verbose_eval=200\n",
        "        )\n",
        "\n",
        "    def fit_predict_proba(self, X, y, X_val, y_val):\n",
        "        self.fit(X, y, X_val, y_val)\n",
        "        return self.predict_proba(X_val)\n",
        "\n",
        "    def predict_proba(self, X):\n",
        "        return self.model_.predict(xgb.DMatrix(X.to_numpy()))"
      ],
      "metadata": {
        "_kg_hide-input": false,
        "scrolled": true,
        "execution": {
          "iopub.status.busy": "2024-10-09T11:32:35.172285Z",
          "iopub.execute_input": "2024-10-09T11:32:35.172654Z",
          "iopub.status.idle": "2024-10-09T11:32:35.181264Z",
          "shell.execute_reply.started": "2024-10-09T11:32:35.172616Z",
          "shell.execute_reply": "2024-10-09T11:32:35.180113Z"
        },
        "trusted": true,
        "id": "sFrmgud8DnoY"
      },
      "execution_count": null,
      "outputs": []
    },
    {
      "cell_type": "code",
      "source": [
        "name = 'XGB0'\n",
        "if EVALUATE_MODELS and not name in SAVED:\n",
        "    score, TRAIN[name], TEST[name] = CV(\n",
        "        XGBEstimator(\n",
        "            params=xgb_params[0],\n",
        "            name=name,\n",
        "        ),\n",
        "        train_lxe,\n",
        "        test_lxe,\n",
        "        dataset='LXE',\n",
        "        log=False,\n",
        "        folds=FOLDS,\n",
        "        repeats=REPEATS,\n",
        "        submission=False,\n",
        "    )\n",
        "    scores[name] = score\n",
        "else:\n",
        "    CV_results(name)"
      ],
      "metadata": {
        "_kg_hide-input": false,
        "execution": {
          "iopub.status.busy": "2024-10-09T11:32:35.182668Z",
          "iopub.execute_input": "2024-10-09T11:32:35.183057Z",
          "iopub.status.idle": "2024-10-09T11:32:36.490789Z",
          "shell.execute_reply.started": "2024-10-09T11:32:35.183016Z",
          "shell.execute_reply": "2024-10-09T11:32:36.489552Z"
        },
        "trusted": true,
        "id": "nRgIFGlEDnoY"
      },
      "execution_count": null,
      "outputs": []
    },
    {
      "cell_type": "code",
      "source": [
        "name = 'XGB1'\n",
        "if not DEBUG:\n",
        "    if EVALUATE_MODELS and not name in SAVED:\n",
        "        score, TRAIN[name], TEST[name] = CV(\n",
        "            XGBEstimator(\n",
        "                params=xgb_params[1],\n",
        "                name=name,\n",
        "            ),\n",
        "            train_lxe,\n",
        "            test_lxe,\n",
        "            dataset='LXE',\n",
        "            log=False,\n",
        "            folds=FOLDS,\n",
        "            repeats=REPEATS,\n",
        "            submission=False,\n",
        "        )\n",
        "        scores[name] = score\n",
        "    else:\n",
        "        CV_results(name)"
      ],
      "metadata": {
        "_kg_hide-input": false,
        "execution": {
          "iopub.status.busy": "2024-10-09T11:32:36.492299Z",
          "iopub.execute_input": "2024-10-09T11:32:36.492689Z",
          "iopub.status.idle": "2024-10-09T11:32:37.791451Z",
          "shell.execute_reply.started": "2024-10-09T11:32:36.492647Z",
          "shell.execute_reply": "2024-10-09T11:32:37.790272Z"
        },
        "trusted": true,
        "id": "-3XDg9XADnoY"
      },
      "execution_count": null,
      "outputs": []
    },
    {
      "cell_type": "code",
      "source": [
        "name = 'E1'\n",
        "if not DEBUG:\n",
        "    if EVALUATE_MODELS and not name in SAVED:\n",
        "        score, TRAIN[name], TEST[name] = CV(\n",
        "            EnsembleClassifier([\n",
        "                        LGBEstimator(params=lgb_params[0]),\n",
        "                        LGBEstimator(params=lgb_params[2]),\n",
        "                        XGBEstimator(params=xgb_params[1]),\n",
        "                    ],\n",
        "                name=name),\n",
        "            train_lxe,\n",
        "            test_lxe,\n",
        "            dataset='LXE',\n",
        "            log=False,\n",
        "            folds=FOLDS,\n",
        "            repeats=REPEATS,\n",
        "            submission=False,\n",
        "        )\n",
        "        scores[name] = score\n",
        "    else:\n",
        "        CV_results(name)"
      ],
      "metadata": {
        "_kg_hide-input": false,
        "execution": {
          "iopub.status.busy": "2024-10-09T11:32:37.793095Z",
          "iopub.execute_input": "2024-10-09T11:32:37.793625Z",
          "iopub.status.idle": "2024-10-09T11:32:39.104576Z",
          "shell.execute_reply.started": "2024-10-09T11:32:37.793571Z",
          "shell.execute_reply": "2024-10-09T11:32:39.103451Z"
        },
        "trusted": true,
        "id": "EX6TEQxqDnoY"
      },
      "execution_count": null,
      "outputs": []
    },
    {
      "cell_type": "code",
      "source": [
        "TRAIN.to_csv(\"TRAIN.csv\", index=False)\n",
        "TEST.to_csv(\"TEST.csv\", index=False)"
      ],
      "metadata": {
        "execution": {
          "iopub.status.busy": "2024-10-09T11:32:39.106283Z",
          "iopub.execute_input": "2024-10-09T11:32:39.106685Z",
          "iopub.status.idle": "2024-10-09T11:32:41.290927Z",
          "shell.execute_reply.started": "2024-10-09T11:32:39.106644Z",
          "shell.execute_reply": "2024-10-09T11:32:41.289695Z"
        },
        "trusted": true,
        "id": "4_tszHcWDnoZ"
      },
      "execution_count": null,
      "outputs": []
    },
    {
      "cell_type": "code",
      "source": [
        "display_scores(scores)"
      ],
      "metadata": {
        "execution": {
          "iopub.status.busy": "2024-10-09T11:32:41.294801Z",
          "iopub.execute_input": "2024-10-09T11:32:41.295211Z",
          "iopub.status.idle": "2024-10-09T11:32:41.794488Z",
          "shell.execute_reply.started": "2024-10-09T11:32:41.295166Z",
          "shell.execute_reply": "2024-10-09T11:32:41.793343Z"
        },
        "trusted": true,
        "id": "2JUXfGmsDnoZ"
      },
      "execution_count": null,
      "outputs": []
    },
    {
      "cell_type": "code",
      "source": [
        "name = 'STACK'\n",
        "STACK = ['LGB0', 'LGB2', 'CAT', 'CAT1', 'XGB1', 'E1', 'CAT2', 'CAT3']\n",
        "if EVALUATE_MODELS:\n",
        "    score, TRAIN[name], TEST[name] = CV(\n",
        "        ClassifierWrapper(LogisticRegression(penalty='l2',  C=10, max_iter=15000, tol=1e-6), name=name),\n",
        "        TRAIN[STACK + [TARGET]],\n",
        "        TEST[STACK],\n",
        "        dataset='STACK',\n",
        "        log=False,\n",
        "        submission=True,\n",
        "        folds=10,\n",
        "        repeats=1,\n",
        "    )\n",
        "    scores[name] = score\n",
        "    display_scores(scores)"
      ],
      "metadata": {
        "_kg_hide-input": false,
        "execution": {
          "iopub.status.busy": "2024-10-09T11:32:41.796048Z",
          "iopub.execute_input": "2024-10-09T11:32:41.796531Z",
          "iopub.status.idle": "2024-10-09T11:32:49.121613Z",
          "shell.execute_reply.started": "2024-10-09T11:32:41.796482Z",
          "shell.execute_reply": "2024-10-09T11:32:49.120341Z"
        },
        "trusted": true,
        "id": "vJcGmD6tDnoZ"
      },
      "execution_count": null,
      "outputs": []
    },
    {
      "cell_type": "code",
      "source": [
        "STACK = ['LGB0', 'LGB2', 'CAT', 'CAT1', 'CAT2', 'CAT3']\n",
        "val_probas = [TRAIN[col].values for col in STACK]\n",
        "print('val_probas:')\n",
        "for proba in val_probas:\n",
        "    print(proba)\n",
        "\n",
        "maxiter = len(STACK) * 15000\n",
        "\n",
        "y_val = TRAIN[TARGET].values\n",
        "averager = Averager(options={'maxiter':maxiter})\n",
        "VAL_PROBAS = averager.fit_predict(val_probas, y_val)\n",
        "print('\\nWEIGHTS:\\n', averager.weights())\n",
        "print('AVGW (weighted average):\\n', VAL_PROBAS)\n",
        "\n",
        "score_averager = round(SCORE(y_val, VAL_PROBAS), 5)\n",
        "print(colored(f'{SCORE_NAME} OF AVGW: {score_averager}\\n\\n', 'red'))\n",
        "\n",
        "test_probas = [TEST[col].values for col in STACK]\n",
        "print('test_probas:')\n",
        "for proba in test_probas:\n",
        "    print(proba)\n",
        "\n",
        "TEST_PROBAS = averager.predict(test_probas)\n",
        "print('weighted average:\\n', TEST_PROBAS, '\\n')\n",
        "\n",
        "TEST['averager'] = TEST_PROBAS\n",
        "TEST"
      ],
      "metadata": {
        "execution": {
          "iopub.status.busy": "2024-10-09T11:32:49.123291Z",
          "iopub.execute_input": "2024-10-09T11:32:49.123828Z",
          "iopub.status.idle": "2024-10-09T11:32:58.640935Z",
          "shell.execute_reply.started": "2024-10-09T11:32:49.123775Z",
          "shell.execute_reply": "2024-10-09T11:32:58.639719Z"
        },
        "trusted": true,
        "id": "vPghQ2EjDnoZ"
      },
      "execution_count": null,
      "outputs": []
    },
    {
      "cell_type": "markdown",
      "source": [
        "# &#128190; Submission Time"
      ],
      "metadata": {
        "id": "1WkCcRuGDnoa"
      }
    },
    {
      "cell_type": "code",
      "source": [
        "sub = sample_sub.copy()\n",
        "sub[TARGET] = TEST['averager']\n",
        "sub.to_csv(\"submission.csv\", index=False)\n",
        "display(sub.head(20))"
      ],
      "metadata": {
        "execution": {
          "iopub.status.busy": "2024-10-09T11:32:58.642327Z",
          "iopub.execute_input": "2024-10-09T11:32:58.642707Z",
          "iopub.status.idle": "2024-10-09T11:32:58.75183Z",
          "shell.execute_reply.started": "2024-10-09T11:32:58.642668Z",
          "shell.execute_reply": "2024-10-09T11:32:58.750618Z"
        },
        "trusted": true,
        "id": "v80cOh29Dnoa"
      },
      "execution_count": null,
      "outputs": []
    },
    {
      "cell_type": "markdown",
      "source": [
        "<div style=\"display: block; padding: 18px 0; background-color: #ffffcc; color: black; font-size: 20px; font-weight: bold; border-radius: 12px; text-align: center; width: 100%; box-shadow: inset 4px 4px 8px rgba(255, 255, 255, 0.5), inset -4px -4px 8px rgba(0, 0, 0, 0.3); width:80%; margin:auto\">\n",
        "    <h1>APPENDIX A. HYPERPARAMETERS TUNING</h1>\n",
        "</div>"
      ],
      "metadata": {
        "_kg_hide-input": true,
        "id": "AjYZck1lDnoa"
      }
    },
    {
      "cell_type": "code",
      "source": [
        "# import optuna\n",
        "# from optuna.samplers import TPESampler\n",
        "\n",
        "# def objective(trial):\n",
        "#     params = {\n",
        "#         'lgb': {\n",
        "#             'n_estimators': trial.suggest_int('lgb_n_estimators', 300, 5000),\n",
        "#             'learning_rate': trial.suggest_float('lgb_learning_rate', 0.001, 1, log=True),\n",
        "# #             'max_depth': trial.suggest_int('lgb_max_depth', 7, 10),\n",
        "# #             'reg_lambda': trial.suggest_float('lgb_lambda_l2', 0.01, 10.0, log=True),\n",
        "# #             'num_leaves': trial.suggest_int('lgb_num_leaves', 2, 512),\n",
        "#         },\n",
        "#         'cat': {\n",
        "#             'iterations': trial.suggest_int('cat_iterations', 500, 5000),\n",
        "#             'learning_rate': trial.suggest_float('cat_learning_rate', 0.001, 1, log=True),\n",
        "# #             'depth': trial.suggest_int('cat_depth', 3, 12),\n",
        "# #             'reg_lambda': trial.suggest_float('cat_lambda_l2', 0.01, 10.0, log=True),\n",
        "#         },\n",
        "#         'xgb': {\n",
        "#             'n_estimators': trial.suggest_int('xgb_n_estimators', 300, 10000),\n",
        "#             'learning_rate': trial.suggest_float('xgb_learning_rate', 0.001, 1, log=True),\n",
        "# #             'max_depth': trial.suggest_int('xgb_max_depth', 3, 12),\n",
        "# #             'lambda': trial.suggest_float('xgb_lambda', 0.01, 10.0, log=True),\n",
        "# #             'num_leaves': trial.suggest_int('xgb_num_leaves', 2, 512),\n",
        "#         },\n",
        "#         'nn': False,\n",
        "#     }\n",
        "\n",
        "#     score, _ = CV(NN_LGB_CAT_XGB_Regressor(params=params, name='NN_LGB_CAT_XGB'), train_final, test_final, dataset=dataset, folds=2, verbose=-1)\n",
        "#     return score[SCORE_NAME]"
      ],
      "metadata": {
        "_kg_hide-input": true,
        "execution": {
          "iopub.status.busy": "2024-10-09T11:32:58.753639Z",
          "iopub.execute_input": "2024-10-09T11:32:58.754659Z",
          "iopub.status.idle": "2024-10-09T11:32:58.760409Z",
          "shell.execute_reply.started": "2024-10-09T11:32:58.754603Z",
          "shell.execute_reply": "2024-10-09T11:32:58.759183Z"
        },
        "trusted": true,
        "id": "jicsZyheDnoa"
      },
      "execution_count": null,
      "outputs": []
    },
    {
      "cell_type": "code",
      "source": [
        "# if OPTUNA:\n",
        "#     study = optuna.create_study(direction=\"minimize\")\n",
        "#     study.optimize(objective, n_trials=10, timeout=600)"
      ],
      "metadata": {
        "_kg_hide-output": true,
        "_kg_hide-input": true,
        "execution": {
          "iopub.status.busy": "2024-10-09T11:32:58.761974Z",
          "iopub.execute_input": "2024-10-09T11:32:58.762539Z",
          "iopub.status.idle": "2024-10-09T11:32:58.776647Z",
          "shell.execute_reply.started": "2024-10-09T11:32:58.762494Z",
          "shell.execute_reply": "2024-10-09T11:32:58.775314Z"
        },
        "trusted": true,
        "id": "o6gM0yAqDnoa"
      },
      "execution_count": null,
      "outputs": []
    },
    {
      "cell_type": "code",
      "source": [
        "# if OPTUNA:\n",
        "#     display(optuna.visualization.plot_slice(study))\n",
        "#     display(optuna.visualization.plot_optimization_history(study))\n",
        "\n",
        "#     print(\"Number of1 finished trials:\", len(study.trials))\n",
        "#     print(\"\\nBest trial:\")\n",
        "#     trial = study.best_trial\n",
        "\n",
        "#     print(\"\\nValue: \", trial.value)\n",
        "\n",
        "#     optuna_params = trial.params\n",
        "#     print(\"\\nParams:\", optuna_params)\n",
        "#     tuned_param = {'lgb':{}, 'cat':{}, 'xgb':{}}\n",
        "\n",
        "#     for k, v in optuna_params.items():\n",
        "#         item = k.split('_')\n",
        "#         k1 = item[0]\n",
        "#         k2 = k[len(k1)+1:]\n",
        "#         tuned_param[k1][k2] = v\n",
        "\n",
        "#     print('\\nTuned:', tuned_param)"
      ],
      "metadata": {
        "_kg_hide-input": true,
        "execution": {
          "iopub.status.busy": "2024-10-09T11:32:58.778062Z",
          "iopub.execute_input": "2024-10-09T11:32:58.778481Z",
          "iopub.status.idle": "2024-10-09T11:32:58.788841Z",
          "shell.execute_reply.started": "2024-10-09T11:32:58.77844Z",
          "shell.execute_reply": "2024-10-09T11:32:58.787739Z"
        },
        "trusted": true,
        "id": "afU4NdkVDnob"
      },
      "execution_count": null,
      "outputs": []
    },
    {
      "cell_type": "code",
      "source": [
        "# if OPTUNA:\n",
        "#     score, _ = CV(LGB_CAT_XGB_FIT_PREDICT_R, train, test, folds=5, dataset='final', log=False, param=tuned_param)\n",
        "#     scores['LGB CAT XGB tuned'] = score\n",
        "#     display_scores(scores)"
      ],
      "metadata": {
        "_kg_hide-input": true,
        "execution": {
          "iopub.status.busy": "2024-10-09T11:32:58.790323Z",
          "iopub.execute_input": "2024-10-09T11:32:58.79082Z",
          "iopub.status.idle": "2024-10-09T11:32:58.805629Z",
          "shell.execute_reply.started": "2024-10-09T11:32:58.790773Z",
          "shell.execute_reply": "2024-10-09T11:32:58.804415Z"
        },
        "trusted": true,
        "id": "z0eVQdbYDnob"
      },
      "execution_count": null,
      "outputs": []
    }
  ]
}
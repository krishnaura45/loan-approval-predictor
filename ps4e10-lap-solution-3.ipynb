{
 "cells": [
  {
   "cell_type": "code",
   "execution_count": 1,
   "id": "70c21456",
   "metadata": {
    "execution": {
     "iopub.execute_input": "2024-10-18T19:46:18.875682Z",
     "iopub.status.busy": "2024-10-18T19:46:18.875261Z",
     "iopub.status.idle": "2024-10-18T19:46:19.777370Z",
     "shell.execute_reply": "2024-10-18T19:46:19.776145Z"
    },
    "papermill": {
     "duration": 0.909765,
     "end_time": "2024-10-18T19:46:19.780061",
     "exception": false,
     "start_time": "2024-10-18T19:46:18.870296",
     "status": "completed"
    },
    "tags": []
   },
   "outputs": [],
   "source": [
    "import pandas as pd"
   ]
  },
  {
   "cell_type": "markdown",
   "id": "41f01e46",
   "metadata": {
    "papermill": {
     "duration": 0.003354,
     "end_time": "2024-10-18T19:46:19.787212",
     "exception": false,
     "start_time": "2024-10-18T19:46:19.783858",
     "status": "completed"
    },
    "tags": []
   },
   "source": [
    "# Load Data\n"
   ]
  },
  {
   "cell_type": "code",
   "execution_count": 2,
   "id": "56e9a4b7",
   "metadata": {
    "execution": {
     "iopub.execute_input": "2024-10-18T19:46:19.796233Z",
     "iopub.status.busy": "2024-10-18T19:46:19.795696Z",
     "iopub.status.idle": "2024-10-18T19:46:19.984678Z",
     "shell.execute_reply": "2024-10-18T19:46:19.983565Z"
    },
    "papermill": {
     "duration": 0.196369,
     "end_time": "2024-10-18T19:46:19.987238",
     "exception": false,
     "start_time": "2024-10-18T19:46:19.790869",
     "status": "completed"
    },
    "tags": []
   },
   "outputs": [],
   "source": [
    "pred1 = pd.read_csv(\"/kaggle/input/eda-and-lgb-cat-xgb/STACK_0.97031.csv\")\n",
    "pred2 = pd.read_csv(\"/kaggle/input/tabnet-ensemble-ridge-lasso/submission.csv\")\n",
    "pred3 = pd.read_csv(\"/kaggle/input/linear-ensemble-hill-climbing/submission.csv\")\n",
    "pred4 = pd.read_csv(\"/kaggle/input/ps-s4-e10-ensemble-of-solutions/submission_14.csv\")\n",
    "pred5 = pd.read_csv(\"/kaggle/input/s4-e10-loan-status-prediction-blending/submission.csv\")"
   ]
  },
  {
   "cell_type": "markdown",
   "id": "193ada41",
   "metadata": {
    "papermill": {
     "duration": 0.003365,
     "end_time": "2024-10-18T19:46:19.994381",
     "exception": false,
     "start_time": "2024-10-18T19:46:19.991016",
     "status": "completed"
    },
    "tags": []
   },
   "source": [
    "# Blending\n"
   ]
  },
  {
   "cell_type": "markdown",
   "id": "d12c3b3d",
   "metadata": {},
   "source": [
    "***Define blend weights***"
   ]
  },
  {
   "cell_type": "code",
   "execution_count": 3,
   "id": "f6400ccd",
   "metadata": {
    "execution": {
     "iopub.execute_input": "2024-10-18T19:46:20.003531Z",
     "iopub.status.busy": "2024-10-18T19:46:20.003104Z",
     "iopub.status.idle": "2024-10-18T19:46:20.008375Z",
     "shell.execute_reply": "2024-10-18T19:46:20.007254Z"
    },
    "papermill": {
     "duration": 0.012568,
     "end_time": "2024-10-18T19:46:20.010649",
     "exception": false,
     "start_time": "2024-10-18T19:46:19.998081",
     "status": "completed"
    },
    "tags": []
   },
   "outputs": [],
   "source": [
    "weights = [0.3, 0.25, 0.2, 0.15, 0.1]\n"
   ]
  },
  {
   "cell_type": "code",
   "execution_count": 4,
   "id": "62565c66",
   "metadata": {
    "execution": {
     "iopub.execute_input": "2024-10-18T19:46:20.021121Z",
     "iopub.status.busy": "2024-10-18T19:46:20.020040Z",
     "iopub.status.idle": "2024-10-18T19:46:20.032917Z",
     "shell.execute_reply": "2024-10-18T19:46:20.031830Z"
    },
    "papermill": {
     "duration": 0.020741,
     "end_time": "2024-10-18T19:46:20.035265",
     "exception": false,
     "start_time": "2024-10-18T19:46:20.014524",
     "status": "completed"
    },
    "tags": []
   },
   "outputs": [],
   "source": [
    "assert (pred1['id'] == pred2['id']).all()\n",
    "assert (pred1['id'] == pred3['id']).all()\n",
    "assert (pred1['id'] == pred4['id']).all()\n",
    "assert (pred1['id'] == pred5['id']).all()"
   ]
  },
  {
   "cell_type": "markdown",
   "id": "6642f571",
   "metadata": {
    "papermill": {
     "duration": 0.003572,
     "end_time": "2024-10-18T19:46:20.042656",
     "exception": false,
     "start_time": "2024-10-18T19:46:20.039084",
     "status": "completed"
    },
    "tags": []
   },
   "source": [
    "***Perform blending***\n"
   ]
  },
  {
   "cell_type": "code",
   "execution_count": 5,
   "id": "ba8edd25",
   "metadata": {
    "execution": {
     "iopub.execute_input": "2024-10-18T19:46:20.052572Z",
     "iopub.status.busy": "2024-10-18T19:46:20.051545Z",
     "iopub.status.idle": "2024-10-18T19:46:20.060569Z",
     "shell.execute_reply": "2024-10-18T19:46:20.059492Z"
    },
    "papermill": {
     "duration": 0.016416,
     "end_time": "2024-10-18T19:46:20.063047",
     "exception": false,
     "start_time": "2024-10-18T19:46:20.046631",
     "status": "completed"
    },
    "tags": []
   },
   "outputs": [],
   "source": [
    "blended_pred = pred1.copy()\n",
    "blended_pred['loan_status'] = (weights[0] * pred1['loan_status'] +\n",
    "                         weights[1] * pred2['loan_status'] +\n",
    "                         weights[2] * pred3['loan_status'] +\n",
    "                         weights[3] * pred4['loan_status'] +\n",
    "                         weights[4] * pred5['loan_status'])\n"
   ]
  },
  {
   "cell_type": "markdown",
   "id": "60ce496b",
   "metadata": {
    "papermill": {
     "duration": 0.003545,
     "end_time": "2024-10-18T19:46:20.070492",
     "exception": false,
     "start_time": "2024-10-18T19:46:20.066947",
     "status": "completed"
    },
    "tags": []
   },
   "source": [
    "# Submission Time\n"
   ]
  },
  {
   "cell_type": "code",
   "execution_count": 6,
   "id": "08c083cb",
   "metadata": {
    "execution": {
     "iopub.execute_input": "2024-10-18T19:46:20.080595Z",
     "iopub.status.busy": "2024-10-18T19:46:20.080177Z",
     "iopub.status.idle": "2024-10-18T19:46:20.183141Z",
     "shell.execute_reply": "2024-10-18T19:46:20.182091Z"
    },
    "papermill": {
     "duration": 0.111534,
     "end_time": "2024-10-18T19:46:20.185827",
     "exception": false,
     "start_time": "2024-10-18T19:46:20.074293",
     "status": "completed"
    },
    "tags": []
   },
   "outputs": [],
   "source": [
    "blended_pred.to_csv(\"submission.csv\", index=False)"
   ]
  }
 ],
 "metadata": {
  "kaggle": {
   "accelerator": "none",
   "dataSources": [
    {
     "databundleVersionId": 9709193,
     "sourceId": 84894,
     "sourceType": "competition"
    },
    {
     "sourceId": 200546710,
     "sourceType": "kernelVersion"
    },
    {
     "sourceId": 200764306,
     "sourceType": "kernelVersion"
    },
    {
     "sourceId": 201019830,
     "sourceType": "kernelVersion"
    },
    {
     "sourceId": 201022893,
     "sourceType": "kernelVersion"
    },
    {
     "sourceId": 201448835,
     "sourceType": "kernelVersion"
    }
   ],
   "dockerImageVersionId": 30775,
   "isGpuEnabled": false,
   "isInternetEnabled": true,
   "language": "python",
   "sourceType": "notebook"
  },
  "kernelspec": {
   "display_name": "Python 3",
   "language": "python",
   "name": "python3"
  },
  "language_info": {
   "codemirror_mode": {
    "name": "ipython",
    "version": 3
   },
   "file_extension": ".py",
   "mimetype": "text/x-python",
   "name": "python",
   "nbconvert_exporter": "python",
   "pygments_lexer": "ipython3",
   "version": "3.10.14"
  },
  "papermill": {
   "default_parameters": {},
   "duration": 4.703386,
   "end_time": "2024-10-18T19:46:20.717733",
   "environment_variables": {},
   "exception": null,
   "input_path": "__notebook__.ipynb",
   "output_path": "__notebook__.ipynb",
   "parameters": {},
   "start_time": "2024-10-18T19:46:16.014347",
   "version": "2.6.0"
  }
 },
 "nbformat": 4,
 "nbformat_minor": 5
}
